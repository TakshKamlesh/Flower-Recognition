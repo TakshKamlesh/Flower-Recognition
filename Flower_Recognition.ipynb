{
  "nbformat": 4,
  "nbformat_minor": 0,
  "metadata": {
    "colab": {
      "name": "Flower Recognition",
      "provenance": [],
      "collapsed_sections": [],
      "machine_shape": "hm"
    },
    "kernelspec": {
      "name": "python3",
      "display_name": "Python 3"
    },
    "accelerator": "GPU"
  },
  "cells": [
    {
      "cell_type": "code",
      "metadata": {
        "id": "tNmOJxYJEb6E",
        "colab_type": "code",
        "outputId": "27f25c1a-7f1a-43f5-9153-8dde18883a97",
        "colab": {
          "base_uri": "https://localhost:8080/",
          "height": 34
        }
      },
      "source": [
        "from google.colab import drive\n",
        "from google.colab import files\n",
        "import cv2 \n",
        "import numpy as np\n",
        "import matplotlib.pyplot as plt\n",
        "import pandas as pd\n",
        "from tqdm import tqdm\n",
        "import os\n",
        "from keras.applications.vgg19 import VGG19, preprocess_input\n",
        "from keras.applications.resnet import ResNet152, preprocess_input\n",
        "from sklearn.model_selection import train_test_split\n",
        "from keras.layers import Flatten, Dense, Dropout\n",
        "from keras.models import Sequential, Model\n",
        "from keras.utils import np_utils\n",
        "from keras.optimizers import Adam\n",
        "from keras import regularizers"
      ],
      "execution_count": 0,
      "outputs": [
        {
          "output_type": "stream",
          "text": [
            "Using TensorFlow backend.\n"
          ],
          "name": "stderr"
        }
      ]
    },
    {
      "cell_type": "code",
      "metadata": {
        "id": "8kwmLF0gFLy2",
        "colab_type": "code",
        "outputId": "745f901a-3880-4b61-efe0-c70a74ac763d",
        "colab": {
          "base_uri": "https://localhost:8080/",
          "height": 122
        }
      },
      "source": [
        "drive.mount('/content/drive/')"
      ],
      "execution_count": 0,
      "outputs": [
        {
          "output_type": "stream",
          "text": [
            "Go to this URL in a browser: https://accounts.google.com/o/oauth2/auth?client_id=947318989803-6bn6qk8qdgf4n4g3pfee6491hc0brc4i.apps.googleusercontent.com&redirect_uri=urn%3Aietf%3Awg%3Aoauth%3A2.0%3Aoob&scope=email%20https%3A%2F%2Fwww.googleapis.com%2Fauth%2Fdocs.test%20https%3A%2F%2Fwww.googleapis.com%2Fauth%2Fdrive%20https%3A%2F%2Fwww.googleapis.com%2Fauth%2Fdrive.photos.readonly%20https%3A%2F%2Fwww.googleapis.com%2Fauth%2Fpeopleapi.readonly&response_type=code\n",
            "\n",
            "Enter your authorization code:\n",
            "··········\n",
            "Mounted at /content/drive/\n"
          ],
          "name": "stdout"
        }
      ]
    },
    {
      "cell_type": "code",
      "metadata": {
        "id": "cXxaGanSFdWM",
        "colab_type": "code",
        "colab": {}
      },
      "source": [
        "DATA_PATH = 'drive/My Drive/flower-recognition-he/data/'"
      ],
      "execution_count": 0,
      "outputs": []
    },
    {
      "cell_type": "code",
      "metadata": {
        "id": "ablhxIpKiiVo",
        "colab_type": "code",
        "colab": {}
      },
      "source": [
        "d = pd.read_csv(DATA_PATH + 'train.csv').values[:,1]"
      ],
      "execution_count": 0,
      "outputs": []
    },
    {
      "cell_type": "code",
      "metadata": {
        "id": "5FLgAC-5i2ca",
        "colab_type": "code",
        "colab": {}
      },
      "source": [
        ""
      ],
      "execution_count": 0,
      "outputs": []
    },
    {
      "cell_type": "code",
      "metadata": {
        "id": "0oFFmehQNTyP",
        "colab_type": "code",
        "colab": {}
      },
      "source": [
        "def load_data():\n",
        "  \n",
        "  data = (pd.read_csv(DATA_PATH + 'train.csv')).values\n",
        "  \n",
        "  X = []\n",
        "  Y = []\n",
        "  \n",
        "  images = os.listdir(DATA_PATH + 'train')\n",
        "  \n",
        "  for i in tqdm(data):\n",
        "    \n",
        "    try:\n",
        "      \n",
        "       ci = cv2.imread(DATA_PATH + 'train/' + str(i[0]) + '.jpg')\n",
        "    \n",
        "       ci2 = cv2.resize(ci, (224,224))\n",
        "    \n",
        "       X.append(ci2)\n",
        "    \n",
        "       Y.append(i[1]-1)\n",
        "      \n",
        "    except:\n",
        "      \n",
        "      continue\n",
        "    \n",
        "  return X,Y\n",
        "    "
      ],
      "execution_count": 0,
      "outputs": []
    },
    {
      "cell_type": "code",
      "metadata": {
        "id": "ZIfR8yxvyOxi",
        "colab_type": "code",
        "outputId": "da8d0556-cea2-4c45-fe72-b5fe0929f1c6",
        "colab": {
          "base_uri": "https://localhost:8080/",
          "height": 34
        }
      },
      "source": [
        "X, Y = load_data()"
      ],
      "execution_count": 0,
      "outputs": [
        {
          "output_type": "stream",
          "text": [
            "100%|██████████| 18540/18540 [54:07<00:00,  5.71it/s] \n"
          ],
          "name": "stderr"
        }
      ]
    },
    {
      "cell_type": "code",
      "metadata": {
        "id": "DVGObNBRzAcx",
        "colab_type": "code",
        "colab": {}
      },
      "source": [
        "X = np.array(X)\n",
        "Y = np.array(Y)"
      ],
      "execution_count": 0,
      "outputs": []
    },
    {
      "cell_type": "code",
      "metadata": {
        "id": "gLFx62MGkdfl",
        "colab_type": "code",
        "outputId": "283fb683-0918-4490-baa2-3f7489f1a6fd",
        "colab": {
          "base_uri": "https://localhost:8080/",
          "height": 34
        }
      },
      "source": [
        "print(X.shape, Y.shape)"
      ],
      "execution_count": 0,
      "outputs": [
        {
          "output_type": "stream",
          "text": [
            "(6232, 224, 224, 3) (6232,)\n"
          ],
          "name": "stdout"
        }
      ]
    },
    {
      "cell_type": "code",
      "metadata": {
        "id": "v6YKOHuTBsJT",
        "colab_type": "code",
        "outputId": "70e01a7c-509a-44e2-dfe9-3d6dd41e1fc4",
        "colab": {
          "base_uri": "https://localhost:8080/",
          "height": 34
        }
      },
      "source": [
        "X2 = []\n",
        "Y2 = []\n",
        "for i in tqdm(range(X.shape[0])):\n",
        "  \n",
        "  M = cv2.getRotationMatrix2D((224/2,224/2),90,1)\n",
        "  dst = cv2.warpAffine(X[i],M,(224,224))\n",
        "  X2.append(dst)\n",
        "  Y2.append(Y[i])"
      ],
      "execution_count": 0,
      "outputs": [
        {
          "output_type": "stream",
          "text": [
            "100%|██████████| 6232/6232 [00:02<00:00, 2708.09it/s]\n"
          ],
          "name": "stderr"
        }
      ]
    },
    {
      "cell_type": "code",
      "metadata": {
        "id": "O0bs9SnMb9_G",
        "colab_type": "code",
        "outputId": "8fda4c94-398b-4bf6-fe38-f2ee1aa673dc",
        "colab": {
          "base_uri": "https://localhost:8080/",
          "height": 34
        }
      },
      "source": [
        "X3 = []\n",
        "Y3 = []\n",
        "for i in tqdm(range(X.shape[0])):\n",
        "  \n",
        "  M = cv2.getRotationMatrix2D((224/2,224/2),180,1)\n",
        "  dst = cv2.warpAffine(X[i],M,(224,224))\n",
        "  X3.append(dst)\n",
        "  Y3.append(Y[i])"
      ],
      "execution_count": 0,
      "outputs": [
        {
          "output_type": "stream",
          "text": [
            "100%|██████████| 6232/6232 [00:02<00:00, 2626.41it/s]\n"
          ],
          "name": "stderr"
        }
      ]
    },
    {
      "cell_type": "code",
      "metadata": {
        "id": "ZrhsUZQjB88b",
        "colab_type": "code",
        "colab": {}
      },
      "source": [
        "X4 = np.concatenate((X,X2),axis = 0)"
      ],
      "execution_count": 0,
      "outputs": []
    },
    {
      "cell_type": "code",
      "metadata": {
        "id": "2M_cDucVPbpI",
        "colab_type": "code",
        "colab": {}
      },
      "source": [
        "Y4 = np.concatenate((Y,Y2), axis = 0)"
      ],
      "execution_count": 0,
      "outputs": []
    },
    {
      "cell_type": "code",
      "metadata": {
        "id": "_phi4KJ1S3ER",
        "colab_type": "code",
        "colab": {}
      },
      "source": [
        "X5 = np.concatenate((X4,X3),axis = 0)"
      ],
      "execution_count": 0,
      "outputs": []
    },
    {
      "cell_type": "code",
      "metadata": {
        "id": "s1nr9ASIckVp",
        "colab_type": "code",
        "colab": {}
      },
      "source": [
        "Y5 = np.concatenate((Y4,Y3),axis = 0)"
      ],
      "execution_count": 0,
      "outputs": []
    },
    {
      "cell_type": "code",
      "metadata": {
        "id": "b30R9OqjQEYu",
        "colab_type": "code",
        "colab": {}
      },
      "source": [
        "Y5 = np_utils.to_categorical(Y5)"
      ],
      "execution_count": 0,
      "outputs": []
    },
    {
      "cell_type": "code",
      "metadata": {
        "id": "Xc0tSMYJuWbJ",
        "colab_type": "code",
        "colab": {}
      },
      "source": [
        "X_train, X_test, Y_train, Y_test = np.array(train_test_split(X5,Y5, test_size = 0.2))"
      ],
      "execution_count": 0,
      "outputs": []
    },
    {
      "cell_type": "code",
      "metadata": {
        "id": "REVMve9eAv7l",
        "colab_type": "code",
        "outputId": "f9d671f0-cfc3-4da4-96db-512a370e28ef",
        "colab": {
          "base_uri": "https://localhost:8080/",
          "height": 34
        }
      },
      "source": [
        ""
      ],
      "execution_count": 0,
      "outputs": [
        {
          "output_type": "execute_result",
          "data": {
            "text/plain": [
              "(18696, 102)"
            ]
          },
          "metadata": {
            "tags": []
          },
          "execution_count": 41
        }
      ]
    },
    {
      "cell_type": "code",
      "metadata": {
        "id": "ygSbq8uRF60J",
        "colab_type": "code",
        "outputId": "155eeaba-76db-4f48-9758-c100513c0f72",
        "colab": {
          "base_uri": "https://localhost:8080/",
          "height": 241
        }
      },
      "source": [
        "vgg19_model = VGG19(input_shape = (224,224,3), include_top = False, weights = 'imagenet')"
      ],
      "execution_count": 0,
      "outputs": [
        {
          "output_type": "stream",
          "text": [
            "WARNING:tensorflow:From /usr/local/lib/python3.6/dist-packages/keras/backend/tensorflow_backend.py:66: The name tf.get_default_graph is deprecated. Please use tf.compat.v1.get_default_graph instead.\n",
            "\n",
            "WARNING:tensorflow:From /usr/local/lib/python3.6/dist-packages/keras/backend/tensorflow_backend.py:541: The name tf.placeholder is deprecated. Please use tf.compat.v1.placeholder instead.\n",
            "\n",
            "WARNING:tensorflow:From /usr/local/lib/python3.6/dist-packages/keras/backend/tensorflow_backend.py:4432: The name tf.random_uniform is deprecated. Please use tf.random.uniform instead.\n",
            "\n",
            "WARNING:tensorflow:From /usr/local/lib/python3.6/dist-packages/keras/backend/tensorflow_backend.py:4267: The name tf.nn.max_pool is deprecated. Please use tf.nn.max_pool2d instead.\n",
            "\n",
            "WARNING:tensorflow:From /usr/local/lib/python3.6/dist-packages/keras/backend/tensorflow_backend.py:190: The name tf.get_default_session is deprecated. Please use tf.compat.v1.get_default_session instead.\n",
            "\n",
            "WARNING:tensorflow:From /usr/local/lib/python3.6/dist-packages/keras/backend/tensorflow_backend.py:197: The name tf.ConfigProto is deprecated. Please use tf.compat.v1.ConfigProto instead.\n",
            "\n"
          ],
          "name": "stdout"
        }
      ]
    },
    {
      "cell_type": "code",
      "metadata": {
        "id": "PMdkbxE1Mlp-",
        "colab_type": "code",
        "colab": {}
      },
      "source": [
        "for l in vgg19_model.layers:\n",
        "  l.trainable= False"
      ],
      "execution_count": 0,
      "outputs": []
    },
    {
      "cell_type": "code",
      "metadata": {
        "id": "90vIcrqjM7RF",
        "colab_type": "code",
        "outputId": "c2daba09-650d-4a09-abef-e3a3e940f35f",
        "colab": {
          "base_uri": "https://localhost:8080/",
          "height": 214
        }
      },
      "source": [
        "fc_layers = Sequential()\n",
        "fc_layers.add( Flatten( input_shape = vgg19_model.layers[-1].output_shape[1:] ) )\n",
        "fc_layers.add(Dense(128, activation = 'relu',kernel_regularizer=regularizers.l2(0.01)))\n",
        "fc_layers.add(Dense(102, activation = 'softmax',kernel_regularizer=regularizers.l2(0.01)))"
      ],
      "execution_count": 0,
      "outputs": [
        {
          "output_type": "error",
          "ename": "NameError",
          "evalue": "ignored",
          "traceback": [
            "\u001b[0;31m---------------------------------------------------------------------------\u001b[0m",
            "\u001b[0;31mNameError\u001b[0m                                 Traceback (most recent call last)",
            "\u001b[0;32m<ipython-input-129-e3bbed9f7fcc>\u001b[0m in \u001b[0;36m<module>\u001b[0;34m()\u001b[0m\n\u001b[1;32m      1\u001b[0m \u001b[0mfc_layers\u001b[0m \u001b[0;34m=\u001b[0m \u001b[0mSequential\u001b[0m\u001b[0;34m(\u001b[0m\u001b[0;34m)\u001b[0m\u001b[0;34m\u001b[0m\u001b[0;34m\u001b[0m\u001b[0m\n\u001b[0;32m----> 2\u001b[0;31m \u001b[0mfc_layers\u001b[0m\u001b[0;34m.\u001b[0m\u001b[0madd\u001b[0m\u001b[0;34m(\u001b[0m \u001b[0mFlatten\u001b[0m\u001b[0;34m(\u001b[0m \u001b[0minput_shape\u001b[0m \u001b[0;34m=\u001b[0m \u001b[0mvgg19_model\u001b[0m\u001b[0;34m.\u001b[0m\u001b[0mlayers\u001b[0m\u001b[0;34m[\u001b[0m\u001b[0;34m-\u001b[0m\u001b[0;36m1\u001b[0m\u001b[0;34m]\u001b[0m\u001b[0;34m.\u001b[0m\u001b[0moutput_shape\u001b[0m\u001b[0;34m[\u001b[0m\u001b[0;36m1\u001b[0m\u001b[0;34m:\u001b[0m\u001b[0;34m]\u001b[0m \u001b[0;34m)\u001b[0m \u001b[0;34m)\u001b[0m\u001b[0;34m\u001b[0m\u001b[0;34m\u001b[0m\u001b[0m\n\u001b[0m\u001b[1;32m      3\u001b[0m \u001b[0mfc_layers\u001b[0m\u001b[0;34m.\u001b[0m\u001b[0madd\u001b[0m\u001b[0;34m(\u001b[0m\u001b[0mDense\u001b[0m\u001b[0;34m(\u001b[0m\u001b[0;36m128\u001b[0m\u001b[0;34m,\u001b[0m \u001b[0mactivation\u001b[0m \u001b[0;34m=\u001b[0m \u001b[0;34m'relu'\u001b[0m\u001b[0;34m,\u001b[0m\u001b[0mkernel_regularizer\u001b[0m\u001b[0;34m=\u001b[0m\u001b[0mregularizers\u001b[0m\u001b[0;34m.\u001b[0m\u001b[0ml2\u001b[0m\u001b[0;34m(\u001b[0m\u001b[0;36m0.01\u001b[0m\u001b[0;34m)\u001b[0m\u001b[0;34m)\u001b[0m\u001b[0;34m)\u001b[0m\u001b[0;34m\u001b[0m\u001b[0;34m\u001b[0m\u001b[0m\n\u001b[1;32m      4\u001b[0m \u001b[0mfc_layers\u001b[0m\u001b[0;34m.\u001b[0m\u001b[0madd\u001b[0m\u001b[0;34m(\u001b[0m\u001b[0mDense\u001b[0m\u001b[0;34m(\u001b[0m\u001b[0;36m102\u001b[0m\u001b[0;34m,\u001b[0m \u001b[0mactivation\u001b[0m \u001b[0;34m=\u001b[0m \u001b[0;34m'softmax'\u001b[0m\u001b[0;34m,\u001b[0m\u001b[0mkernel_regularizer\u001b[0m\u001b[0;34m=\u001b[0m\u001b[0mregularizers\u001b[0m\u001b[0;34m.\u001b[0m\u001b[0ml2\u001b[0m\u001b[0;34m(\u001b[0m\u001b[0;36m0.01\u001b[0m\u001b[0;34m)\u001b[0m\u001b[0;34m)\u001b[0m\u001b[0;34m)\u001b[0m\u001b[0;34m\u001b[0m\u001b[0;34m\u001b[0m\u001b[0m\n",
            "\u001b[0;31mNameError\u001b[0m: name 'vgg19_model' is not defined"
          ]
        }
      ]
    },
    {
      "cell_type": "code",
      "metadata": {
        "id": "aBChqJuVtPtz",
        "colab_type": "code",
        "outputId": "28bb9b3c-c610-4674-ebd6-234d1ce0820b",
        "colab": {
          "base_uri": "https://localhost:8080/",
          "height": 163
        }
      },
      "source": [
        "VGG_Model = Sequential([vgg19_model, fc_layers])"
      ],
      "execution_count": 0,
      "outputs": [
        {
          "output_type": "error",
          "ename": "NameError",
          "evalue": "ignored",
          "traceback": [
            "\u001b[0;31m---------------------------------------------------------------------------\u001b[0m",
            "\u001b[0;31mNameError\u001b[0m                                 Traceback (most recent call last)",
            "\u001b[0;32m<ipython-input-130-8f0be50ff45d>\u001b[0m in \u001b[0;36m<module>\u001b[0;34m()\u001b[0m\n\u001b[0;32m----> 1\u001b[0;31m \u001b[0mVGG_Model\u001b[0m \u001b[0;34m=\u001b[0m \u001b[0mSequential\u001b[0m\u001b[0;34m(\u001b[0m\u001b[0;34m[\u001b[0m\u001b[0mvgg19_model\u001b[0m\u001b[0;34m,\u001b[0m \u001b[0mfc_layers\u001b[0m\u001b[0;34m]\u001b[0m\u001b[0;34m)\u001b[0m\u001b[0;34m\u001b[0m\u001b[0;34m\u001b[0m\u001b[0m\n\u001b[0m",
            "\u001b[0;31mNameError\u001b[0m: name 'vgg19_model' is not defined"
          ]
        }
      ]
    },
    {
      "cell_type": "code",
      "metadata": {
        "id": "q1zIvG4mtSBs",
        "colab_type": "code",
        "outputId": "d12f0ca5-d408-4180-980f-85f6a0db9f40",
        "colab": {
          "base_uri": "https://localhost:8080/",
          "height": 221
        }
      },
      "source": [
        "VGG_Model.summary()"
      ],
      "execution_count": 0,
      "outputs": [
        {
          "output_type": "stream",
          "text": [
            "Model: \"sequential_2\"\n",
            "_________________________________________________________________\n",
            "Layer (type)                 Output Shape              Param #   \n",
            "=================================================================\n",
            "vgg19 (Model)                (None, 7, 7, 512)         20024384  \n",
            "_________________________________________________________________\n",
            "sequential_1 (Sequential)    (None, 102)               3224550   \n",
            "=================================================================\n",
            "Total params: 23,248,934\n",
            "Trainable params: 3,224,550\n",
            "Non-trainable params: 20,024,384\n",
            "_________________________________________________________________\n"
          ],
          "name": "stdout"
        }
      ]
    },
    {
      "cell_type": "code",
      "metadata": {
        "id": "hqrsxJ493STR",
        "colab_type": "code",
        "outputId": "16e6e589-e48a-4633-ddf6-e5b259043772",
        "colab": {
          "base_uri": "https://localhost:8080/",
          "height": 71
        }
      },
      "source": [
        "VGG_Model.compile(optimizer = Adam(0.0001), loss = 'categorical_crossentropy', metrics = ['accuracy'])"
      ],
      "execution_count": 0,
      "outputs": [
        {
          "output_type": "stream",
          "text": [
            "WARNING:tensorflow:From /usr/local/lib/python3.6/dist-packages/keras/optimizers.py:793: The name tf.train.Optimizer is deprecated. Please use tf.compat.v1.train.Optimizer instead.\n",
            "\n"
          ],
          "name": "stdout"
        }
      ]
    },
    {
      "cell_type": "code",
      "metadata": {
        "id": "r2_vJ8ER3Vj9",
        "colab_type": "code",
        "outputId": "15b9e27d-8cad-4777-ccb6-22ee83b8fcba",
        "colab": {
          "base_uri": "https://localhost:8080/",
          "height": 357
        }
      },
      "source": [
        "history_vgg = VGG_Model.fit(X_train, Y_train, batch_size = 1, epochs = 15, validation_data = [X_test, Y_test], shuffle = True)"
      ],
      "execution_count": 0,
      "outputs": [
        {
          "output_type": "stream",
          "text": [
            "Train on 10594 samples, validate on 1870 samples\n",
            "Epoch 1/15\n",
            "  412/10594 [>.............................] - ETA: 2:52 - loss: 4.6552 - acc: 0.0850"
          ],
          "name": "stdout"
        },
        {
          "output_type": "error",
          "ename": "KeyboardInterrupt",
          "evalue": "ignored",
          "traceback": [
            "\u001b[0;31m---------------------------------------------------------------------------\u001b[0m",
            "\u001b[0;31mKeyboardInterrupt\u001b[0m                         Traceback (most recent call last)",
            "\u001b[0;32m<ipython-input-26-bf315f9c7793>\u001b[0m in \u001b[0;36m<module>\u001b[0;34m()\u001b[0m\n\u001b[0;32m----> 1\u001b[0;31m \u001b[0mhistory_vgg\u001b[0m \u001b[0;34m=\u001b[0m \u001b[0mVGG_Model\u001b[0m\u001b[0;34m.\u001b[0m\u001b[0mfit\u001b[0m\u001b[0;34m(\u001b[0m\u001b[0mX_train\u001b[0m\u001b[0;34m,\u001b[0m \u001b[0mY_train\u001b[0m\u001b[0;34m,\u001b[0m \u001b[0mbatch_size\u001b[0m \u001b[0;34m=\u001b[0m \u001b[0;36m1\u001b[0m\u001b[0;34m,\u001b[0m \u001b[0mepochs\u001b[0m \u001b[0;34m=\u001b[0m \u001b[0;36m15\u001b[0m\u001b[0;34m,\u001b[0m \u001b[0mvalidation_data\u001b[0m \u001b[0;34m=\u001b[0m \u001b[0;34m[\u001b[0m\u001b[0mX_test\u001b[0m\u001b[0;34m,\u001b[0m \u001b[0mY_test\u001b[0m\u001b[0;34m]\u001b[0m\u001b[0;34m,\u001b[0m \u001b[0mshuffle\u001b[0m \u001b[0;34m=\u001b[0m \u001b[0;32mTrue\u001b[0m\u001b[0;34m)\u001b[0m\u001b[0;34m\u001b[0m\u001b[0;34m\u001b[0m\u001b[0m\n\u001b[0m",
            "\u001b[0;32m/usr/local/lib/python3.6/dist-packages/keras/engine/training.py\u001b[0m in \u001b[0;36mfit\u001b[0;34m(self, x, y, batch_size, epochs, verbose, callbacks, validation_split, validation_data, shuffle, class_weight, sample_weight, initial_epoch, steps_per_epoch, validation_steps, validation_freq, max_queue_size, workers, use_multiprocessing, **kwargs)\u001b[0m\n\u001b[1;32m   1176\u001b[0m                                         \u001b[0msteps_per_epoch\u001b[0m\u001b[0;34m=\u001b[0m\u001b[0msteps_per_epoch\u001b[0m\u001b[0;34m,\u001b[0m\u001b[0;34m\u001b[0m\u001b[0;34m\u001b[0m\u001b[0m\n\u001b[1;32m   1177\u001b[0m                                         \u001b[0mvalidation_steps\u001b[0m\u001b[0;34m=\u001b[0m\u001b[0mvalidation_steps\u001b[0m\u001b[0;34m,\u001b[0m\u001b[0;34m\u001b[0m\u001b[0;34m\u001b[0m\u001b[0m\n\u001b[0;32m-> 1178\u001b[0;31m                                         validation_freq=validation_freq)\n\u001b[0m\u001b[1;32m   1179\u001b[0m \u001b[0;34m\u001b[0m\u001b[0m\n\u001b[1;32m   1180\u001b[0m     def evaluate(self,\n",
            "\u001b[0;32m/usr/local/lib/python3.6/dist-packages/keras/engine/training_arrays.py\u001b[0m in \u001b[0;36mfit_loop\u001b[0;34m(model, fit_function, fit_inputs, out_labels, batch_size, epochs, verbose, callbacks, val_function, val_inputs, shuffle, callback_metrics, initial_epoch, steps_per_epoch, validation_steps, validation_freq)\u001b[0m\n\u001b[1;32m    202\u001b[0m                     \u001b[0mins_batch\u001b[0m\u001b[0;34m[\u001b[0m\u001b[0mi\u001b[0m\u001b[0;34m]\u001b[0m \u001b[0;34m=\u001b[0m \u001b[0mins_batch\u001b[0m\u001b[0;34m[\u001b[0m\u001b[0mi\u001b[0m\u001b[0;34m]\u001b[0m\u001b[0;34m.\u001b[0m\u001b[0mtoarray\u001b[0m\u001b[0;34m(\u001b[0m\u001b[0;34m)\u001b[0m\u001b[0;34m\u001b[0m\u001b[0;34m\u001b[0m\u001b[0m\n\u001b[1;32m    203\u001b[0m \u001b[0;34m\u001b[0m\u001b[0m\n\u001b[0;32m--> 204\u001b[0;31m                 \u001b[0mouts\u001b[0m \u001b[0;34m=\u001b[0m \u001b[0mfit_function\u001b[0m\u001b[0;34m(\u001b[0m\u001b[0mins_batch\u001b[0m\u001b[0;34m)\u001b[0m\u001b[0;34m\u001b[0m\u001b[0;34m\u001b[0m\u001b[0m\n\u001b[0m\u001b[1;32m    205\u001b[0m                 \u001b[0mouts\u001b[0m \u001b[0;34m=\u001b[0m \u001b[0mto_list\u001b[0m\u001b[0;34m(\u001b[0m\u001b[0mouts\u001b[0m\u001b[0;34m)\u001b[0m\u001b[0;34m\u001b[0m\u001b[0;34m\u001b[0m\u001b[0m\n\u001b[1;32m    206\u001b[0m                 \u001b[0;32mfor\u001b[0m \u001b[0ml\u001b[0m\u001b[0;34m,\u001b[0m \u001b[0mo\u001b[0m \u001b[0;32min\u001b[0m \u001b[0mzip\u001b[0m\u001b[0;34m(\u001b[0m\u001b[0mout_labels\u001b[0m\u001b[0;34m,\u001b[0m \u001b[0mouts\u001b[0m\u001b[0;34m)\u001b[0m\u001b[0;34m:\u001b[0m\u001b[0;34m\u001b[0m\u001b[0;34m\u001b[0m\u001b[0m\n",
            "\u001b[0;32m/usr/local/lib/python3.6/dist-packages/keras/backend/tensorflow_backend.py\u001b[0m in \u001b[0;36m__call__\u001b[0;34m(self, inputs)\u001b[0m\n\u001b[1;32m   2977\u001b[0m                     \u001b[0;32mreturn\u001b[0m \u001b[0mself\u001b[0m\u001b[0;34m.\u001b[0m\u001b[0m_legacy_call\u001b[0m\u001b[0;34m(\u001b[0m\u001b[0minputs\u001b[0m\u001b[0;34m)\u001b[0m\u001b[0;34m\u001b[0m\u001b[0;34m\u001b[0m\u001b[0m\n\u001b[1;32m   2978\u001b[0m \u001b[0;34m\u001b[0m\u001b[0m\n\u001b[0;32m-> 2979\u001b[0;31m             \u001b[0;32mreturn\u001b[0m \u001b[0mself\u001b[0m\u001b[0;34m.\u001b[0m\u001b[0m_call\u001b[0m\u001b[0;34m(\u001b[0m\u001b[0minputs\u001b[0m\u001b[0;34m)\u001b[0m\u001b[0;34m\u001b[0m\u001b[0;34m\u001b[0m\u001b[0m\n\u001b[0m\u001b[1;32m   2980\u001b[0m         \u001b[0;32melse\u001b[0m\u001b[0;34m:\u001b[0m\u001b[0;34m\u001b[0m\u001b[0;34m\u001b[0m\u001b[0m\n\u001b[1;32m   2981\u001b[0m             \u001b[0;32mif\u001b[0m \u001b[0mpy_any\u001b[0m\u001b[0;34m(\u001b[0m\u001b[0mis_tensor\u001b[0m\u001b[0;34m(\u001b[0m\u001b[0mx\u001b[0m\u001b[0;34m)\u001b[0m \u001b[0;32mfor\u001b[0m \u001b[0mx\u001b[0m \u001b[0;32min\u001b[0m \u001b[0minputs\u001b[0m\u001b[0;34m)\u001b[0m\u001b[0;34m:\u001b[0m\u001b[0;34m\u001b[0m\u001b[0;34m\u001b[0m\u001b[0m\n",
            "\u001b[0;32m/usr/local/lib/python3.6/dist-packages/keras/backend/tensorflow_backend.py\u001b[0m in \u001b[0;36m_call\u001b[0;34m(self, inputs)\u001b[0m\n\u001b[1;32m   2935\u001b[0m             \u001b[0mfetched\u001b[0m \u001b[0;34m=\u001b[0m \u001b[0mself\u001b[0m\u001b[0;34m.\u001b[0m\u001b[0m_callable_fn\u001b[0m\u001b[0;34m(\u001b[0m\u001b[0;34m*\u001b[0m\u001b[0marray_vals\u001b[0m\u001b[0;34m,\u001b[0m \u001b[0mrun_metadata\u001b[0m\u001b[0;34m=\u001b[0m\u001b[0mself\u001b[0m\u001b[0;34m.\u001b[0m\u001b[0mrun_metadata\u001b[0m\u001b[0;34m)\u001b[0m\u001b[0;34m\u001b[0m\u001b[0;34m\u001b[0m\u001b[0m\n\u001b[1;32m   2936\u001b[0m         \u001b[0;32melse\u001b[0m\u001b[0;34m:\u001b[0m\u001b[0;34m\u001b[0m\u001b[0;34m\u001b[0m\u001b[0m\n\u001b[0;32m-> 2937\u001b[0;31m             \u001b[0mfetched\u001b[0m \u001b[0;34m=\u001b[0m \u001b[0mself\u001b[0m\u001b[0;34m.\u001b[0m\u001b[0m_callable_fn\u001b[0m\u001b[0;34m(\u001b[0m\u001b[0;34m*\u001b[0m\u001b[0marray_vals\u001b[0m\u001b[0;34m)\u001b[0m\u001b[0;34m\u001b[0m\u001b[0;34m\u001b[0m\u001b[0m\n\u001b[0m\u001b[1;32m   2938\u001b[0m         \u001b[0;32mreturn\u001b[0m \u001b[0mfetched\u001b[0m\u001b[0;34m[\u001b[0m\u001b[0;34m:\u001b[0m\u001b[0mlen\u001b[0m\u001b[0;34m(\u001b[0m\u001b[0mself\u001b[0m\u001b[0;34m.\u001b[0m\u001b[0moutputs\u001b[0m\u001b[0;34m)\u001b[0m\u001b[0;34m]\u001b[0m\u001b[0;34m\u001b[0m\u001b[0;34m\u001b[0m\u001b[0m\n\u001b[1;32m   2939\u001b[0m \u001b[0;34m\u001b[0m\u001b[0m\n",
            "\u001b[0;32m/usr/local/lib/python3.6/dist-packages/tensorflow/python/client/session.py\u001b[0m in \u001b[0;36m__call__\u001b[0;34m(self, *args, **kwargs)\u001b[0m\n\u001b[1;32m   1456\u001b[0m         ret = tf_session.TF_SessionRunCallable(self._session._session,\n\u001b[1;32m   1457\u001b[0m                                                \u001b[0mself\u001b[0m\u001b[0;34m.\u001b[0m\u001b[0m_handle\u001b[0m\u001b[0;34m,\u001b[0m \u001b[0margs\u001b[0m\u001b[0;34m,\u001b[0m\u001b[0;34m\u001b[0m\u001b[0;34m\u001b[0m\u001b[0m\n\u001b[0;32m-> 1458\u001b[0;31m                                                run_metadata_ptr)\n\u001b[0m\u001b[1;32m   1459\u001b[0m         \u001b[0;32mif\u001b[0m \u001b[0mrun_metadata\u001b[0m\u001b[0;34m:\u001b[0m\u001b[0;34m\u001b[0m\u001b[0;34m\u001b[0m\u001b[0m\n\u001b[1;32m   1460\u001b[0m           \u001b[0mproto_data\u001b[0m \u001b[0;34m=\u001b[0m \u001b[0mtf_session\u001b[0m\u001b[0;34m.\u001b[0m\u001b[0mTF_GetBuffer\u001b[0m\u001b[0;34m(\u001b[0m\u001b[0mrun_metadata_ptr\u001b[0m\u001b[0;34m)\u001b[0m\u001b[0;34m\u001b[0m\u001b[0;34m\u001b[0m\u001b[0m\n",
            "\u001b[0;31mKeyboardInterrupt\u001b[0m: "
          ]
        }
      ]
    },
    {
      "cell_type": "code",
      "metadata": {
        "id": "PZT3KL8I7N6L",
        "colab_type": "code",
        "colab": {}
      },
      "source": [
        "new_data = []"
      ],
      "execution_count": 0,
      "outputs": []
    },
    {
      "cell_type": "code",
      "metadata": {
        "id": "350JMH9h4Am9",
        "colab_type": "code",
        "colab": {}
      },
      "source": [
        "for i in range(d1.shape[0]):\n",
        "  new_data.append('' + str(d1[i]) +'.jpg')"
      ],
      "execution_count": 0,
      "outputs": []
    },
    {
      "cell_type": "code",
      "metadata": {
        "id": "GQ8xN3404H4G",
        "colab_type": "code",
        "outputId": "af0d99b3-59b3-44a3-d196-6b214a2c1b94",
        "colab": {
          "base_uri": "https://localhost:8080/",
          "height": 187
        }
      },
      "source": [
        "new_data[:10]"
      ],
      "execution_count": 0,
      "outputs": [
        {
          "output_type": "execute_result",
          "data": {
            "text/plain": [
              "['0.jpg',\n",
              " '1.jpg',\n",
              " '2.jpg',\n",
              " '3.jpg',\n",
              " '4.jpg',\n",
              " '5.jpg',\n",
              " '6.jpg',\n",
              " '7.jpg',\n",
              " '8.jpg',\n",
              " '9.jpg']"
            ]
          },
          "metadata": {
            "tags": []
          },
          "execution_count": 53
        }
      ]
    },
    {
      "cell_type": "code",
      "metadata": {
        "id": "K0Hml6HZ4QoK",
        "colab_type": "code",
        "colab": {}
      },
      "source": [
        "d2 = np.sort(new_data)"
      ],
      "execution_count": 0,
      "outputs": []
    },
    {
      "cell_type": "code",
      "metadata": {
        "id": "2kZ8K0AM4t2q",
        "colab_type": "code",
        "outputId": "55f6d8da-c613-4406-c26d-a2446d158e02",
        "colab": {
          "base_uri": "https://localhost:8080/",
          "height": 51
        }
      },
      "source": [
        "d2[:10]"
      ],
      "execution_count": 0,
      "outputs": [
        {
          "output_type": "execute_result",
          "data": {
            "text/plain": [
              "array(['0.jpg', '1.jpg', '10.jpg', '100.jpg', '1000.jpg', '10000.jpg',\n",
              "       '10001.jpg', '10002.jpg', '10003.jpg', '10004.jpg'], dtype='<U9')"
            ]
          },
          "metadata": {
            "tags": []
          },
          "execution_count": 55
        }
      ]
    },
    {
      "cell_type": "code",
      "metadata": {
        "id": "Itdm2Fbf4w4f",
        "colab_type": "code",
        "outputId": "81cc5e77-b061-4dba-ebfd-a2229e99d5ef",
        "colab": {
          "base_uri": "https://localhost:8080/",
          "height": 309
        }
      },
      "source": [
        " resnet_model = ResNet152(input_shape = (224,224,3), include_top = False, weights= 'imagenet')"
      ],
      "execution_count": 0,
      "outputs": [
        {
          "output_type": "stream",
          "text": [
            "WARNING:tensorflow:From /usr/local/lib/python3.6/dist-packages/keras/backend/tensorflow_backend.py:66: The name tf.get_default_graph is deprecated. Please use tf.compat.v1.get_default_graph instead.\n",
            "\n",
            "WARNING:tensorflow:From /usr/local/lib/python3.6/dist-packages/keras/backend/tensorflow_backend.py:541: The name tf.placeholder is deprecated. Please use tf.compat.v1.placeholder instead.\n",
            "\n",
            "WARNING:tensorflow:From /usr/local/lib/python3.6/dist-packages/keras/backend/tensorflow_backend.py:4432: The name tf.random_uniform is deprecated. Please use tf.random.uniform instead.\n",
            "\n",
            "WARNING:tensorflow:From /usr/local/lib/python3.6/dist-packages/keras/backend/tensorflow_backend.py:190: The name tf.get_default_session is deprecated. Please use tf.compat.v1.get_default_session instead.\n",
            "\n",
            "WARNING:tensorflow:From /usr/local/lib/python3.6/dist-packages/keras/backend/tensorflow_backend.py:197: The name tf.ConfigProto is deprecated. Please use tf.compat.v1.ConfigProto instead.\n",
            "\n",
            "WARNING:tensorflow:From /usr/local/lib/python3.6/dist-packages/keras/backend/tensorflow_backend.py:2041: The name tf.nn.fused_batch_norm is deprecated. Please use tf.compat.v1.nn.fused_batch_norm instead.\n",
            "\n",
            "WARNING:tensorflow:From /usr/local/lib/python3.6/dist-packages/keras/backend/tensorflow_backend.py:4267: The name tf.nn.max_pool is deprecated. Please use tf.nn.max_pool2d instead.\n",
            "\n",
            "Downloading data from https://github.com/keras-team/keras-applications/releases/download/resnet/resnet152_weights_tf_dim_ordering_tf_kernels_notop.h5\n",
            "234700800/234698864 [==============================] - 7s 0us/step\n"
          ],
          "name": "stdout"
        }
      ]
    },
    {
      "cell_type": "code",
      "metadata": {
        "id": "NsemHM9hUVsi",
        "colab_type": "code",
        "colab": {}
      },
      "source": [
        "for l in resnet_model.layers:\n",
        "  l.trainable= False"
      ],
      "execution_count": 0,
      "outputs": []
    },
    {
      "cell_type": "code",
      "metadata": {
        "id": "GhJlRfuMUc5V",
        "colab_type": "code",
        "outputId": "3deefaa1-422d-40ce-aded-04f05d0e61ae",
        "colab": {
          "base_uri": "https://localhost:8080/",
          "height": 88
        }
      },
      "source": [
        "fc_layers = Sequential()\n",
        "fc_layers.add( Flatten( input_shape = resnet_model.layers[-1].output_shape[1:] ) )\n",
        "fc_layers.add(Dense(128, activation = 'relu',kernel_regularizer=regularizers.l2(0.01)))\n",
        "fc_layers.add(Dropout(0.2))\n",
        "fc_layers.add(Dense(102, activation = 'softmax'))"
      ],
      "execution_count": 0,
      "outputs": [
        {
          "output_type": "stream",
          "text": [
            "WARNING:tensorflow:From /usr/local/lib/python3.6/dist-packages/keras/backend/tensorflow_backend.py:3733: calling dropout (from tensorflow.python.ops.nn_ops) with keep_prob is deprecated and will be removed in a future version.\n",
            "Instructions for updating:\n",
            "Please use `rate` instead of `keep_prob`. Rate should be set to `rate = 1 - keep_prob`.\n"
          ],
          "name": "stdout"
        }
      ]
    },
    {
      "cell_type": "code",
      "metadata": {
        "id": "T4GxDbOMUfGh",
        "colab_type": "code",
        "colab": {}
      },
      "source": [
        "RESNET_MODEL = Sequential([resnet_model, fc_layers])"
      ],
      "execution_count": 0,
      "outputs": []
    },
    {
      "cell_type": "code",
      "metadata": {
        "id": "yrUyx_PEUri2",
        "colab_type": "code",
        "outputId": "8088366a-bbef-4b2c-8ffc-e608c8c4ef95",
        "colab": {
          "base_uri": "https://localhost:8080/",
          "height": 71
        }
      },
      "source": [
        "RESNET_MODEL.compile(optimizer = Adam(0.00001), loss = 'categorical_crossentropy', metrics = ['accuracy'])"
      ],
      "execution_count": 0,
      "outputs": [
        {
          "output_type": "stream",
          "text": [
            "WARNING:tensorflow:From /usr/local/lib/python3.6/dist-packages/keras/optimizers.py:793: The name tf.train.Optimizer is deprecated. Please use tf.compat.v1.train.Optimizer instead.\n",
            "\n"
          ],
          "name": "stdout"
        }
      ]
    },
    {
      "cell_type": "code",
      "metadata": {
        "id": "8ocF0JnYUzJt",
        "colab_type": "code",
        "outputId": "23eb8bca-e91b-41b0-f36a-5d558ac6e79a",
        "colab": {
          "base_uri": "https://localhost:8080/",
          "height": 581
        }
      },
      "source": [
        "rh = RESNET_MODEL.fit(X_train, Y_train, batch_size = 20, epochs = 200, validation_data = [X_test, Y_test], shuffle = True)"
      ],
      "execution_count": 0,
      "outputs": [
        {
          "output_type": "stream",
          "text": [
            "WARNING:tensorflow:From /usr/local/lib/python3.6/dist-packages/tensorflow/python/ops/math_grad.py:1250: add_dispatch_support.<locals>.wrapper (from tensorflow.python.ops.array_ops) is deprecated and will be removed in a future version.\n",
            "Instructions for updating:\n",
            "Use tf.where in 2.0, which has the same broadcast rule as np.where\n",
            "Train on 14956 samples, validate on 3740 samples\n",
            "Epoch 1/200\n",
            "14956/14956 [==============================] - 193s 13ms/step - loss: 6.0749 - acc: 0.2284 - val_loss: 5.6488 - val_acc: 0.2957\n",
            "Epoch 2/200\n",
            "14956/14956 [==============================] - 182s 12ms/step - loss: 3.7471 - acc: 0.6782 - val_loss: 5.0089 - val_acc: 0.4184\n",
            "Epoch 3/200\n",
            "14956/14956 [==============================] - 182s 12ms/step - loss: 2.8919 - acc: 0.8683 - val_loss: 4.5177 - val_acc: 0.4930\n",
            "Epoch 4/200\n",
            "14956/14956 [==============================] - 182s 12ms/step - loss: 2.5529 - acc: 0.9408 - val_loss: 4.5115 - val_acc: 0.4840\n",
            "Epoch 5/200\n",
            "14956/14956 [==============================] - 182s 12ms/step - loss: 2.3640 - acc: 0.9691 - val_loss: 4.2209 - val_acc: 0.5321\n",
            "Epoch 6/200\n",
            "14956/14956 [==============================] - 182s 12ms/step - loss: 2.2187 - acc: 0.9787 - val_loss: 4.0541 - val_acc: 0.5414\n",
            "Epoch 7/200\n",
            "14956/14956 [==============================] - 182s 12ms/step - loss: 2.0670 - acc: 0.9882 - val_loss: 3.8970 - val_acc: 0.5503\n",
            "Epoch 8/200\n",
            "14956/14956 [==============================] - 182s 12ms/step - loss: 1.9300 - acc: 0.9894 - val_loss: 3.7314 - val_acc: 0.5628\n",
            "Epoch 9/200\n",
            "14956/14956 [==============================] - 182s 12ms/step - loss: 1.7786 - acc: 0.9920 - val_loss: 3.4461 - val_acc: 0.5781\n",
            "Epoch 10/200\n",
            "14956/14956 [==============================] - 182s 12ms/step - loss: 1.6264 - acc: 0.9949 - val_loss: 3.4442 - val_acc: 0.5628\n",
            "Epoch 11/200\n",
            "14956/14956 [==============================] - 182s 12ms/step - loss: 1.4706 - acc: 0.9949 - val_loss: 3.1217 - val_acc: 0.5933\n",
            "Epoch 12/200\n",
            "14956/14956 [==============================] - 182s 12ms/step - loss: 1.3228 - acc: 0.9958 - val_loss: 2.9888 - val_acc: 0.5888\n",
            "Epoch 13/200\n",
            "14956/14956 [==============================] - 182s 12ms/step - loss: 1.1864 - acc: 0.9949 - val_loss: 2.9343 - val_acc: 0.5914\n",
            "Epoch 14/200\n",
            " 5880/14956 [==========>...................] - ETA: 1:27 - loss: 1.0950 - acc: 0.9963"
          ],
          "name": "stdout"
        }
      ]
    },
    {
      "cell_type": "code",
      "metadata": {
        "id": "UvHk9ZJMU6Ei",
        "colab_type": "code",
        "outputId": "1928d082-9d1b-4cd1-a1eb-a82d299b514d",
        "colab": {
          "base_uri": "https://localhost:8080/",
          "height": 326
        }
      },
      "source": [
        "                                                                    resnet_model.save('resnet.h5')"
      ],
      "execution_count": 0,
      "outputs": [
        {
          "output_type": "error",
          "ename": "KeyboardInterrupt",
          "evalue": "ignored",
          "traceback": [
            "\u001b[0;31m---------------------------------------------------------------------------\u001b[0m",
            "\u001b[0;31mKeyboardInterrupt\u001b[0m                         Traceback (most recent call last)",
            "\u001b[0;32m<ipython-input-59-6c19e056e8a1>\u001b[0m in \u001b[0;36m<module>\u001b[0;34m()\u001b[0m\n\u001b[0;32m----> 1\u001b[0;31m \u001b[0mresnet_model\u001b[0m\u001b[0;34m.\u001b[0m\u001b[0msave\u001b[0m\u001b[0;34m(\u001b[0m\u001b[0;34m'resnet.h5'\u001b[0m\u001b[0;34m)\u001b[0m\u001b[0;34m\u001b[0m\u001b[0;34m\u001b[0m\u001b[0m\n\u001b[0m",
            "\u001b[0;32m/usr/local/lib/python3.6/dist-packages/keras/engine/network.py\u001b[0m in \u001b[0;36msave\u001b[0;34m(self, filepath, overwrite, include_optimizer)\u001b[0m\n\u001b[1;32m   1137\u001b[0m             \u001b[0;32mraise\u001b[0m \u001b[0mNotImplementedError\u001b[0m\u001b[0;34m\u001b[0m\u001b[0;34m\u001b[0m\u001b[0m\n\u001b[1;32m   1138\u001b[0m         \u001b[0;32mfrom\u001b[0m \u001b[0;34m.\u001b[0m\u001b[0;34m.\u001b[0m\u001b[0mmodels\u001b[0m \u001b[0;32mimport\u001b[0m \u001b[0msave_model\u001b[0m\u001b[0;34m\u001b[0m\u001b[0;34m\u001b[0m\u001b[0m\n\u001b[0;32m-> 1139\u001b[0;31m         \u001b[0msave_model\u001b[0m\u001b[0;34m(\u001b[0m\u001b[0mself\u001b[0m\u001b[0;34m,\u001b[0m \u001b[0mfilepath\u001b[0m\u001b[0;34m,\u001b[0m \u001b[0moverwrite\u001b[0m\u001b[0;34m,\u001b[0m \u001b[0minclude_optimizer\u001b[0m\u001b[0;34m)\u001b[0m\u001b[0;34m\u001b[0m\u001b[0;34m\u001b[0m\u001b[0m\n\u001b[0m\u001b[1;32m   1140\u001b[0m \u001b[0;34m\u001b[0m\u001b[0m\n\u001b[1;32m   1141\u001b[0m     \u001b[0;34m@\u001b[0m\u001b[0msaving\u001b[0m\u001b[0;34m.\u001b[0m\u001b[0mallow_write_to_gcs\u001b[0m\u001b[0;34m\u001b[0m\u001b[0;34m\u001b[0m\u001b[0m\n",
            "\u001b[0;32m/usr/local/lib/python3.6/dist-packages/keras/engine/saving.py\u001b[0m in \u001b[0;36msave_wrapper\u001b[0;34m(obj, filepath, overwrite, *args, **kwargs)\u001b[0m\n\u001b[1;32m    413\u001b[0m                 \u001b[0mos\u001b[0m\u001b[0;34m.\u001b[0m\u001b[0mremove\u001b[0m\u001b[0;34m(\u001b[0m\u001b[0mtmp_filepath\u001b[0m\u001b[0;34m)\u001b[0m\u001b[0;34m\u001b[0m\u001b[0;34m\u001b[0m\u001b[0m\n\u001b[1;32m    414\u001b[0m         \u001b[0;32melse\u001b[0m\u001b[0;34m:\u001b[0m\u001b[0;34m\u001b[0m\u001b[0;34m\u001b[0m\u001b[0m\n\u001b[0;32m--> 415\u001b[0;31m             \u001b[0msave_function\u001b[0m\u001b[0;34m(\u001b[0m\u001b[0mobj\u001b[0m\u001b[0;34m,\u001b[0m \u001b[0mfilepath\u001b[0m\u001b[0;34m,\u001b[0m \u001b[0moverwrite\u001b[0m\u001b[0;34m,\u001b[0m \u001b[0;34m*\u001b[0m\u001b[0margs\u001b[0m\u001b[0;34m,\u001b[0m \u001b[0;34m**\u001b[0m\u001b[0mkwargs\u001b[0m\u001b[0;34m)\u001b[0m\u001b[0;34m\u001b[0m\u001b[0;34m\u001b[0m\u001b[0m\n\u001b[0m\u001b[1;32m    416\u001b[0m \u001b[0;34m\u001b[0m\u001b[0m\n\u001b[1;32m    417\u001b[0m     \u001b[0;32mreturn\u001b[0m \u001b[0msave_wrapper\u001b[0m\u001b[0;34m\u001b[0m\u001b[0;34m\u001b[0m\u001b[0m\n",
            "\u001b[0;32m/usr/local/lib/python3.6/dist-packages/keras/engine/saving.py\u001b[0m in \u001b[0;36msave_model\u001b[0;34m(model, filepath, overwrite, include_optimizer)\u001b[0m\n\u001b[1;32m    505\u001b[0m                 \u001b[0;32mreturn\u001b[0m\u001b[0;34m\u001b[0m\u001b[0;34m\u001b[0m\u001b[0m\n\u001b[1;32m    506\u001b[0m         \u001b[0;32mwith\u001b[0m \u001b[0mH5Dict\u001b[0m\u001b[0;34m(\u001b[0m\u001b[0mfilepath\u001b[0m\u001b[0;34m,\u001b[0m \u001b[0mmode\u001b[0m\u001b[0;34m=\u001b[0m\u001b[0;34m'w'\u001b[0m\u001b[0;34m)\u001b[0m \u001b[0;32mas\u001b[0m \u001b[0mh5dict\u001b[0m\u001b[0;34m:\u001b[0m\u001b[0;34m\u001b[0m\u001b[0;34m\u001b[0m\u001b[0m\n\u001b[0;32m--> 507\u001b[0;31m             \u001b[0m_serialize_model\u001b[0m\u001b[0;34m(\u001b[0m\u001b[0mmodel\u001b[0m\u001b[0;34m,\u001b[0m \u001b[0mh5dict\u001b[0m\u001b[0;34m,\u001b[0m \u001b[0minclude_optimizer\u001b[0m\u001b[0;34m)\u001b[0m\u001b[0;34m\u001b[0m\u001b[0;34m\u001b[0m\u001b[0m\n\u001b[0m\u001b[1;32m    508\u001b[0m     \u001b[0;32melif\u001b[0m \u001b[0mhasattr\u001b[0m\u001b[0;34m(\u001b[0m\u001b[0mfilepath\u001b[0m\u001b[0;34m,\u001b[0m \u001b[0;34m'write'\u001b[0m\u001b[0;34m)\u001b[0m \u001b[0;32mand\u001b[0m \u001b[0mcallable\u001b[0m\u001b[0;34m(\u001b[0m\u001b[0mfilepath\u001b[0m\u001b[0;34m.\u001b[0m\u001b[0mwrite\u001b[0m\u001b[0;34m)\u001b[0m\u001b[0;34m:\u001b[0m\u001b[0;34m\u001b[0m\u001b[0;34m\u001b[0m\u001b[0m\n\u001b[1;32m    509\u001b[0m         \u001b[0;31m# write as binary stream\u001b[0m\u001b[0;34m\u001b[0m\u001b[0;34m\u001b[0m\u001b[0;34m\u001b[0m\u001b[0m\n",
            "\u001b[0;32m/usr/local/lib/python3.6/dist-packages/keras/engine/saving.py\u001b[0m in \u001b[0;36m_serialize_model\u001b[0;34m(model, h5dict, include_optimizer)\u001b[0m\n\u001b[1;32m    112\u001b[0m         \u001b[0mlayer_group\u001b[0m \u001b[0;34m=\u001b[0m \u001b[0mmodel_weights_group\u001b[0m\u001b[0;34m[\u001b[0m\u001b[0mlayer\u001b[0m\u001b[0;34m.\u001b[0m\u001b[0mname\u001b[0m\u001b[0;34m]\u001b[0m\u001b[0;34m\u001b[0m\u001b[0;34m\u001b[0m\u001b[0m\n\u001b[1;32m    113\u001b[0m         \u001b[0msymbolic_weights\u001b[0m \u001b[0;34m=\u001b[0m \u001b[0mlayer\u001b[0m\u001b[0;34m.\u001b[0m\u001b[0mweights\u001b[0m\u001b[0;34m\u001b[0m\u001b[0;34m\u001b[0m\u001b[0m\n\u001b[0;32m--> 114\u001b[0;31m         \u001b[0mweight_values\u001b[0m \u001b[0;34m=\u001b[0m \u001b[0mK\u001b[0m\u001b[0;34m.\u001b[0m\u001b[0mbatch_get_value\u001b[0m\u001b[0;34m(\u001b[0m\u001b[0msymbolic_weights\u001b[0m\u001b[0;34m)\u001b[0m\u001b[0;34m\u001b[0m\u001b[0;34m\u001b[0m\u001b[0m\n\u001b[0m\u001b[1;32m    115\u001b[0m         \u001b[0mweight_names\u001b[0m \u001b[0;34m=\u001b[0m \u001b[0;34m[\u001b[0m\u001b[0;34m]\u001b[0m\u001b[0;34m\u001b[0m\u001b[0;34m\u001b[0m\u001b[0m\n\u001b[1;32m    116\u001b[0m         \u001b[0;32mfor\u001b[0m \u001b[0mi\u001b[0m\u001b[0;34m,\u001b[0m \u001b[0;34m(\u001b[0m\u001b[0mw\u001b[0m\u001b[0;34m,\u001b[0m \u001b[0mval\u001b[0m\u001b[0;34m)\u001b[0m \u001b[0;32min\u001b[0m \u001b[0menumerate\u001b[0m\u001b[0;34m(\u001b[0m\u001b[0mzip\u001b[0m\u001b[0;34m(\u001b[0m\u001b[0msymbolic_weights\u001b[0m\u001b[0;34m,\u001b[0m \u001b[0mweight_values\u001b[0m\u001b[0;34m)\u001b[0m\u001b[0;34m)\u001b[0m\u001b[0;34m:\u001b[0m\u001b[0;34m\u001b[0m\u001b[0;34m\u001b[0m\u001b[0m\n",
            "\u001b[0;32m/usr/local/lib/python3.6/dist-packages/keras/backend/tensorflow_backend.py\u001b[0m in \u001b[0;36mbatch_get_value\u001b[0;34m(ops)\u001b[0m\n\u001b[1;32m   2680\u001b[0m     \"\"\"\n\u001b[1;32m   2681\u001b[0m     \u001b[0;32mif\u001b[0m \u001b[0mops\u001b[0m\u001b[0;34m:\u001b[0m\u001b[0;34m\u001b[0m\u001b[0;34m\u001b[0m\u001b[0m\n\u001b[0;32m-> 2682\u001b[0;31m         \u001b[0;32mreturn\u001b[0m \u001b[0mget_session\u001b[0m\u001b[0;34m(\u001b[0m\u001b[0;34m)\u001b[0m\u001b[0;34m.\u001b[0m\u001b[0mrun\u001b[0m\u001b[0;34m(\u001b[0m\u001b[0mops\u001b[0m\u001b[0;34m)\u001b[0m\u001b[0;34m\u001b[0m\u001b[0;34m\u001b[0m\u001b[0m\n\u001b[0m\u001b[1;32m   2683\u001b[0m     \u001b[0;32melse\u001b[0m\u001b[0;34m:\u001b[0m\u001b[0;34m\u001b[0m\u001b[0;34m\u001b[0m\u001b[0m\n\u001b[1;32m   2684\u001b[0m         \u001b[0;32mreturn\u001b[0m \u001b[0;34m[\u001b[0m\u001b[0;34m]\u001b[0m\u001b[0;34m\u001b[0m\u001b[0;34m\u001b[0m\u001b[0m\n",
            "\u001b[0;32m/usr/local/lib/python3.6/dist-packages/tensorflow/python/client/session.py\u001b[0m in \u001b[0;36mrun\u001b[0;34m(self, fetches, feed_dict, options, run_metadata)\u001b[0m\n\u001b[1;32m    948\u001b[0m     \u001b[0;32mtry\u001b[0m\u001b[0;34m:\u001b[0m\u001b[0;34m\u001b[0m\u001b[0;34m\u001b[0m\u001b[0m\n\u001b[1;32m    949\u001b[0m       result = self._run(None, fetches, feed_dict, options_ptr,\n\u001b[0;32m--> 950\u001b[0;31m                          run_metadata_ptr)\n\u001b[0m\u001b[1;32m    951\u001b[0m       \u001b[0;32mif\u001b[0m \u001b[0mrun_metadata\u001b[0m\u001b[0;34m:\u001b[0m\u001b[0;34m\u001b[0m\u001b[0;34m\u001b[0m\u001b[0m\n\u001b[1;32m    952\u001b[0m         \u001b[0mproto_data\u001b[0m \u001b[0;34m=\u001b[0m \u001b[0mtf_session\u001b[0m\u001b[0;34m.\u001b[0m\u001b[0mTF_GetBuffer\u001b[0m\u001b[0;34m(\u001b[0m\u001b[0mrun_metadata_ptr\u001b[0m\u001b[0;34m)\u001b[0m\u001b[0;34m\u001b[0m\u001b[0;34m\u001b[0m\u001b[0m\n",
            "\u001b[0;32m/usr/local/lib/python3.6/dist-packages/tensorflow/python/client/session.py\u001b[0m in \u001b[0;36m_run\u001b[0;34m(self, handle, fetches, feed_dict, options, run_metadata)\u001b[0m\n\u001b[1;32m   1171\u001b[0m     \u001b[0;32mif\u001b[0m \u001b[0mfinal_fetches\u001b[0m \u001b[0;32mor\u001b[0m \u001b[0mfinal_targets\u001b[0m \u001b[0;32mor\u001b[0m \u001b[0;34m(\u001b[0m\u001b[0mhandle\u001b[0m \u001b[0;32mand\u001b[0m \u001b[0mfeed_dict_tensor\u001b[0m\u001b[0;34m)\u001b[0m\u001b[0;34m:\u001b[0m\u001b[0;34m\u001b[0m\u001b[0;34m\u001b[0m\u001b[0m\n\u001b[1;32m   1172\u001b[0m       results = self._do_run(handle, final_targets, final_fetches,\n\u001b[0;32m-> 1173\u001b[0;31m                              feed_dict_tensor, options, run_metadata)\n\u001b[0m\u001b[1;32m   1174\u001b[0m     \u001b[0;32melse\u001b[0m\u001b[0;34m:\u001b[0m\u001b[0;34m\u001b[0m\u001b[0;34m\u001b[0m\u001b[0m\n\u001b[1;32m   1175\u001b[0m       \u001b[0mresults\u001b[0m \u001b[0;34m=\u001b[0m \u001b[0;34m[\u001b[0m\u001b[0;34m]\u001b[0m\u001b[0;34m\u001b[0m\u001b[0;34m\u001b[0m\u001b[0m\n",
            "\u001b[0;32m/usr/local/lib/python3.6/dist-packages/tensorflow/python/client/session.py\u001b[0m in \u001b[0;36m_do_run\u001b[0;34m(self, handle, target_list, fetch_list, feed_dict, options, run_metadata)\u001b[0m\n\u001b[1;32m   1348\u001b[0m     \u001b[0;32mif\u001b[0m \u001b[0mhandle\u001b[0m \u001b[0;32mis\u001b[0m \u001b[0;32mNone\u001b[0m\u001b[0;34m:\u001b[0m\u001b[0;34m\u001b[0m\u001b[0;34m\u001b[0m\u001b[0m\n\u001b[1;32m   1349\u001b[0m       return self._do_call(_run_fn, feeds, fetches, targets, options,\n\u001b[0;32m-> 1350\u001b[0;31m                            run_metadata)\n\u001b[0m\u001b[1;32m   1351\u001b[0m     \u001b[0;32melse\u001b[0m\u001b[0;34m:\u001b[0m\u001b[0;34m\u001b[0m\u001b[0;34m\u001b[0m\u001b[0m\n\u001b[1;32m   1352\u001b[0m       \u001b[0;32mreturn\u001b[0m \u001b[0mself\u001b[0m\u001b[0;34m.\u001b[0m\u001b[0m_do_call\u001b[0m\u001b[0;34m(\u001b[0m\u001b[0m_prun_fn\u001b[0m\u001b[0;34m,\u001b[0m \u001b[0mhandle\u001b[0m\u001b[0;34m,\u001b[0m \u001b[0mfeeds\u001b[0m\u001b[0;34m,\u001b[0m \u001b[0mfetches\u001b[0m\u001b[0;34m)\u001b[0m\u001b[0;34m\u001b[0m\u001b[0;34m\u001b[0m\u001b[0m\n",
            "\u001b[0;32m/usr/local/lib/python3.6/dist-packages/tensorflow/python/client/session.py\u001b[0m in \u001b[0;36m_do_call\u001b[0;34m(self, fn, *args)\u001b[0m\n\u001b[1;32m   1354\u001b[0m   \u001b[0;32mdef\u001b[0m \u001b[0m_do_call\u001b[0m\u001b[0;34m(\u001b[0m\u001b[0mself\u001b[0m\u001b[0;34m,\u001b[0m \u001b[0mfn\u001b[0m\u001b[0;34m,\u001b[0m \u001b[0;34m*\u001b[0m\u001b[0margs\u001b[0m\u001b[0;34m)\u001b[0m\u001b[0;34m:\u001b[0m\u001b[0;34m\u001b[0m\u001b[0;34m\u001b[0m\u001b[0m\n\u001b[1;32m   1355\u001b[0m     \u001b[0;32mtry\u001b[0m\u001b[0;34m:\u001b[0m\u001b[0;34m\u001b[0m\u001b[0;34m\u001b[0m\u001b[0m\n\u001b[0;32m-> 1356\u001b[0;31m       \u001b[0;32mreturn\u001b[0m \u001b[0mfn\u001b[0m\u001b[0;34m(\u001b[0m\u001b[0;34m*\u001b[0m\u001b[0margs\u001b[0m\u001b[0;34m)\u001b[0m\u001b[0;34m\u001b[0m\u001b[0;34m\u001b[0m\u001b[0m\n\u001b[0m\u001b[1;32m   1357\u001b[0m     \u001b[0;32mexcept\u001b[0m \u001b[0merrors\u001b[0m\u001b[0;34m.\u001b[0m\u001b[0mOpError\u001b[0m \u001b[0;32mas\u001b[0m \u001b[0me\u001b[0m\u001b[0;34m:\u001b[0m\u001b[0;34m\u001b[0m\u001b[0;34m\u001b[0m\u001b[0m\n\u001b[1;32m   1358\u001b[0m       \u001b[0mmessage\u001b[0m \u001b[0;34m=\u001b[0m \u001b[0mcompat\u001b[0m\u001b[0;34m.\u001b[0m\u001b[0mas_text\u001b[0m\u001b[0;34m(\u001b[0m\u001b[0me\u001b[0m\u001b[0;34m.\u001b[0m\u001b[0mmessage\u001b[0m\u001b[0;34m)\u001b[0m\u001b[0;34m\u001b[0m\u001b[0;34m\u001b[0m\u001b[0m\n",
            "\u001b[0;32m/usr/local/lib/python3.6/dist-packages/tensorflow/python/client/session.py\u001b[0m in \u001b[0;36m_run_fn\u001b[0;34m(feed_dict, fetch_list, target_list, options, run_metadata)\u001b[0m\n\u001b[1;32m   1339\u001b[0m       \u001b[0mself\u001b[0m\u001b[0;34m.\u001b[0m\u001b[0m_extend_graph\u001b[0m\u001b[0;34m(\u001b[0m\u001b[0;34m)\u001b[0m\u001b[0;34m\u001b[0m\u001b[0;34m\u001b[0m\u001b[0m\n\u001b[1;32m   1340\u001b[0m       return self._call_tf_sessionrun(\n\u001b[0;32m-> 1341\u001b[0;31m           options, feed_dict, fetch_list, target_list, run_metadata)\n\u001b[0m\u001b[1;32m   1342\u001b[0m \u001b[0;34m\u001b[0m\u001b[0m\n\u001b[1;32m   1343\u001b[0m     \u001b[0;32mdef\u001b[0m \u001b[0m_prun_fn\u001b[0m\u001b[0;34m(\u001b[0m\u001b[0mhandle\u001b[0m\u001b[0;34m,\u001b[0m \u001b[0mfeed_dict\u001b[0m\u001b[0;34m,\u001b[0m \u001b[0mfetch_list\u001b[0m\u001b[0;34m)\u001b[0m\u001b[0;34m:\u001b[0m\u001b[0;34m\u001b[0m\u001b[0;34m\u001b[0m\u001b[0m\n",
            "\u001b[0;32m/usr/local/lib/python3.6/dist-packages/tensorflow/python/client/session.py\u001b[0m in \u001b[0;36m_call_tf_sessionrun\u001b[0;34m(self, options, feed_dict, fetch_list, target_list, run_metadata)\u001b[0m\n\u001b[1;32m   1427\u001b[0m     return tf_session.TF_SessionRun_wrapper(\n\u001b[1;32m   1428\u001b[0m         \u001b[0mself\u001b[0m\u001b[0;34m.\u001b[0m\u001b[0m_session\u001b[0m\u001b[0;34m,\u001b[0m \u001b[0moptions\u001b[0m\u001b[0;34m,\u001b[0m \u001b[0mfeed_dict\u001b[0m\u001b[0;34m,\u001b[0m \u001b[0mfetch_list\u001b[0m\u001b[0;34m,\u001b[0m \u001b[0mtarget_list\u001b[0m\u001b[0;34m,\u001b[0m\u001b[0;34m\u001b[0m\u001b[0;34m\u001b[0m\u001b[0m\n\u001b[0;32m-> 1429\u001b[0;31m         run_metadata)\n\u001b[0m\u001b[1;32m   1430\u001b[0m \u001b[0;34m\u001b[0m\u001b[0m\n\u001b[1;32m   1431\u001b[0m   \u001b[0;32mdef\u001b[0m \u001b[0m_call_tf_sessionprun\u001b[0m\u001b[0;34m(\u001b[0m\u001b[0mself\u001b[0m\u001b[0;34m,\u001b[0m \u001b[0mhandle\u001b[0m\u001b[0;34m,\u001b[0m \u001b[0mfeed_dict\u001b[0m\u001b[0;34m,\u001b[0m \u001b[0mfetch_list\u001b[0m\u001b[0;34m)\u001b[0m\u001b[0;34m:\u001b[0m\u001b[0;34m\u001b[0m\u001b[0;34m\u001b[0m\u001b[0m\n",
            "\u001b[0;31mKeyboardInterrupt\u001b[0m: "
          ]
        }
      ]
    },
    {
      "cell_type": "code",
      "metadata": {
        "id": "7-WdQ5CttME9",
        "colab_type": "code",
        "colab": {}
      },
      "source": [
        "test_images = os.listdir(DATA_PATH + 'test')"
      ],
      "execution_count": 0,
      "outputs": []
    },
    {
      "cell_type": "code",
      "metadata": {
        "id": "QwlU5lkhuo-1",
        "colab_type": "code",
        "colab": {}
      },
      "source": [
        ""
      ],
      "execution_count": 0,
      "outputs": []
    },
    {
      "cell_type": "code",
      "metadata": {
        "id": "yjauAILutWT8",
        "colab_type": "code",
        "colab": {}
      },
      "source": [
        "ti = []\n",
        "\n",
        "r =np.arange(18540, 20549)"
      ],
      "execution_count": 0,
      "outputs": []
    },
    {
      "cell_type": "code",
      "metadata": {
        "id": "P7GpOXQFuBpZ",
        "colab_type": "code",
        "outputId": "faf5a779-c039-4e5d-ae7e-922d717a3f3a",
        "colab": {
          "base_uri": "https://localhost:8080/",
          "height": 34
        }
      },
      "source": [
        "r"
      ],
      "execution_count": 0,
      "outputs": [
        {
          "output_type": "execute_result",
          "data": {
            "text/plain": [
              "array([18540, 18541, 18542, ..., 20546, 20547, 20548])"
            ]
          },
          "metadata": {
            "tags": []
          },
          "execution_count": 62
        }
      ]
    },
    {
      "cell_type": "code",
      "metadata": {
        "id": "3P3vjbaHuJ4d",
        "colab_type": "code",
        "outputId": "91a1fc7f-df2c-4331-d10c-b303c20a1535",
        "colab": {
          "base_uri": "https://localhost:8080/",
          "height": 34
        }
      },
      "source": [
        "test_images"
      ],
      "execution_count": 0,
      "outputs": [
        {
          "output_type": "execute_result",
          "data": {
            "text/plain": [
              "[]"
            ]
          },
          "metadata": {
            "tags": []
          },
          "execution_count": 65
        }
      ]
    },
    {
      "cell_type": "code",
      "metadata": {
        "id": "C06tq6CQuOFM",
        "colab_type": "code",
        "colab": {}
      },
      "source": [
        "test_folder = os.listdir('drive/My Drive/FR/data/test')"
      ],
      "execution_count": 0,
      "outputs": []
    },
    {
      "cell_type": "code",
      "metadata": {
        "id": "JJlH168yurVf",
        "colab_type": "code",
        "outputId": "2fe9eff9-6910-4916-cd94-87d256adc625",
        "colab": {
          "base_uri": "https://localhost:8080/",
          "height": 286
        }
      },
      "source": [
        "ti = cv2.imread('drive/My Drive/FR/data/test/' + test_folder[3])\n",
        "ti = cv2.resize(ti,(224,224))\n",
        "plt.imshow(ti)"
      ],
      "execution_count": 0,
      "outputs": [
        {
          "output_type": "execute_result",
          "data": {
            "text/plain": [
              "<matplotlib.image.AxesImage at 0x7f460bec6940>"
            ]
          },
          "metadata": {
            "tags": []
          },
          "execution_count": 76
        },
        {
          "output_type": "display_data",
          "data": {
            "image/png": "[encoded data removed]",
            "text/plain": [
              "<Figure size 432x288 with 1 Axes>"
            ]
          },
          "metadata": {
            "tags": []
          }
        }
      ]
    },
    {
      "cell_type": "code",
      "metadata": {
        "id": "QApXDTEGu-U5",
        "colab_type": "code",
        "colab": {}
      },
      "source": [
        "predictions = RESNET_MODEL.predict(np.array([ti]))"
      ],
      "execution_count": 0,
      "outputs": []
    },
    {
      "cell_type": "code",
      "metadata": {
        "id": "ccBCTlPXvGnz",
        "colab_type": "code",
        "outputId": "e7217be9-3a10-494a-f536-86cafb1590de",
        "colab": {
          "base_uri": "https://localhost:8080/",
          "height": 34
        }
      },
      "source": [
        "a = predictions.argmax() + \n",
        "a"
      ],
      "execution_count": 0,
      "outputs": [
        {
          "output_type": "execute_result",
          "data": {
            "text/plain": [
              "43"
            ]
          },
          "metadata": {
            "tags": []
          },
          "execution_count": 82
        }
      ]
    },
    {
      "cell_type": "code",
      "metadata": {
        "id": "8j9EeX8Yv5Xm",
        "colab_type": "code",
        "colab": {}
      },
      "source": [
        "preds = []"
      ],
      "execution_count": 0,
      "outputs": []
    },
    {
      "cell_type": "code",
      "metadata": {
        "id": "bpabBsS6ud87",
        "colab_type": "code",
        "outputId": "567ffe8f-dc04-476a-c043-a39921c62b35",
        "colab": {
          "base_uri": "https://localhost:8080/",
          "height": 34
        }
      },
      "source": [
        "for i in tqdm(r):\n",
        "  \n",
        "  ci = cv2.imread('drive/My Drive/FR/data/test/' + str(i) + '.jpg')\n",
        "  \n",
        "  ci = cv2.resize(ci, (224,224))\n",
        "  \n",
        "  cp = RESNET_MODEL.predict(np.array([ci]))\n",
        "  \n",
        "  ans = cp.argmax() + 1\n",
        "  \n",
        "  preds.append(ans)"
      ],
      "execution_count": 0,
      "outputs": [
        {
          "output_type": "stream",
          "text": [
            "100%|██████████| 2009/2009 [19:27<00:00,  1.66it/s]\n"
          ],
          "name": "stderr"
        }
      ]
    },
    {
      "cell_type": "code",
      "metadata": {
        "id": "l59C-qb_02Bc",
        "colab_type": "code",
        "colab": {}
      },
      "source": [
        "preds = np.array(preds)"
      ],
      "execution_count": 0,
      "outputs": []
    },
    {
      "cell_type": "code",
      "metadata": {
        "id": "yK8bsBqP1gsD",
        "colab_type": "code",
        "colab": {}
      },
      "source": [
        "preds2 = np.reshape(preds, (2009,1))"
      ],
      "execution_count": 0,
      "outputs": []
    },
    {
      "cell_type": "code",
      "metadata": {
        "id": "Y2qPEt-uwEEE",
        "colab_type": "code",
        "colab": {}
      },
      "source": [
        "r2 = np.reshape(r, (2009,1))"
      ],
      "execution_count": 0,
      "outputs": []
    },
    {
      "cell_type": "code",
      "metadata": {
        "id": "_TSzFq2_1Iq8",
        "colab_type": "code",
        "colab": {}
      },
      "source": [
        "d = np.concatenate((r2,preds2), axis = 1)"
      ],
      "execution_count": 0,
      "outputs": []
    },
    {
      "cell_type": "code",
      "metadata": {
        "id": "-NDELr941Tu3",
        "colab_type": "code",
        "outputId": "07795472-91d5-4f41-d5b6-3e8d32b0099f",
        "colab": {
          "base_uri": "https://localhost:8080/",
          "height": 187
        }
      },
      "source": [
        "d[:10]"
      ],
      "execution_count": 0,
      "outputs": [
        {
          "output_type": "execute_result",
          "data": {
            "text/plain": [
              "array([[18540,    98],\n",
              "       [18541,     1],\n",
              "       [18542,    76],\n",
              "       [18543,    72],\n",
              "       [18544,    51],\n",
              "       [18545,    76],\n",
              "       [18546,    67],\n",
              "       [18547,    51],\n",
              "       [18548,    72],\n",
              "       [18549,    89]])"
            ]
          },
          "metadata": {
            "tags": []
          },
          "execution_count": 110
        }
      ]
    },
    {
      "cell_type": "code",
      "metadata": {
        "id": "7CEnkuI612lf",
        "colab_type": "code",
        "colab": {}
      },
      "source": [
        "RESULT = pd.DataFrame(d, columns = ['image_id', 'category'])"
      ],
      "execution_count": 0,
      "outputs": []
    },
    {
      "cell_type": "code",
      "metadata": {
        "id": "E8Q_Vrd92Ack",
        "colab_type": "code",
        "outputId": "0f143c2a-dda2-45c9-cc58-7a27b5ef22fc",
        "colab": {
          "base_uri": "https://localhost:8080/",
          "height": 204
        }
      },
      "source": [
        "RESULT.head(n=5)"
      ],
      "execution_count": 0,
      "outputs": [
        {
          "output_type": "execute_result",
          "data": {
            "text/html": [
              "<div>\n",
              "<style scoped>\n",
              "    .dataframe tbody tr th:only-of-type {\n",
              "        vertical-align: middle;\n",
              "    }\n",
              "\n",
              "    .dataframe tbody tr th {\n",
              "        vertical-align: top;\n",
              "    }\n",
              "\n",
              "    .dataframe thead th {\n",
              "        text-align: right;\n",
              "    }\n",
              "</style>\n",
              "<table border=\"1\" class=\"dataframe\">\n",
              "  <thead>\n",
              "    <tr style=\"text-align: right;\">\n",
              "      <th></th>\n",
              "      <th>image_id</th>\n",
              "      <th>category</th>\n",
              "    </tr>\n",
              "  </thead>\n",
              "  <tbody>\n",
              "    <tr>\n",
              "      <th>0</th>\n",
              "      <td>18540</td>\n",
              "      <td>98</td>\n",
              "    </tr>\n",
              "    <tr>\n",
              "      <th>1</th>\n",
              "      <td>18541</td>\n",
              "      <td>1</td>\n",
              "    </tr>\n",
              "    <tr>\n",
              "      <th>2</th>\n",
              "      <td>18542</td>\n",
              "      <td>76</td>\n",
              "    </tr>\n",
              "    <tr>\n",
              "      <th>3</th>\n",
              "      <td>18543</td>\n",
              "      <td>72</td>\n",
              "    </tr>\n",
              "    <tr>\n",
              "      <th>4</th>\n",
              "      <td>18544</td>\n",
              "      <td>51</td>\n",
              "    </tr>\n",
              "  </tbody>\n",
              "</table>\n",
              "</div>"
            ],
            "text/plain": [
              "   image_id  category\n",
              "0     18540        98\n",
              "1     18541         1\n",
              "2     18542        76\n",
              "3     18543        72\n",
              "4     18544        51"
            ]
          },
          "metadata": {
            "tags": []
          },
          "execution_count": 123
        }
      ]
    },
    {
      "cell_type": "code",
      "metadata": {
        "id": "v4IFlcXT2D17",
        "colab_type": "code",
        "colab": {}
      },
      "source": [
        "RESULT.to_csv('SUBMISSION2.csv',index = None)"
      ],
      "execution_count": 0,
      "outputs": []
    },
    {
      "cell_type": "code",
      "metadata": {
        "id": "rL5BamRd27mH",
        "colab_type": "code",
        "outputId": "ef11363e-d87a-4622-e22c-d4258a87d85d",
        "colab": {
          "base_uri": "https://localhost:8080/",
          "height": 34
        }
      },
      "source": [
        "!ls"
      ],
      "execution_count": 0,
      "outputs": [
        {
          "output_type": "stream",
          "text": [
            "drive  resnet.h5  sample_data  SUBMISSION2.csv\tSUBMISSION.csv\n"
          ],
          "name": "stdout"
        }
      ]
    },
    {
      "cell_type": "code",
      "metadata": {
        "id": "gl607pki28kY",
        "colab_type": "code",
        "colab": {}
      },
      "source": [
        "from google.colab import files\n",
        "files.download('SUBMISSION2.csv')"
      ],
      "execution_count": 0,
      "outputs": []
    },
    {
      "cell_type": "code",
      "metadata": {
        "id": "KPuJloxK9JdA",
        "colab_type": "code",
        "colab": {}
      },
      "source": [
        "!mkdir all_models"
      ],
      "execution_count": 0,
      "outputs": []
    },
    {
      "cell_type": "code",
      "metadata": {
        "id": "pdBqPrQE3FGd",
        "colab_type": "code",
        "outputId": "1f12b986-c8de-4ee7-92f0-64b772393d82",
        "colab": {
          "base_uri": "https://localhost:8080/",
          "height": 1000
        }
      },
      "source": [
        "for i in range(1,76):\n",
        "  \n",
        "  rh = RESNET_MODEL.fit(X_train, Y_train, batch_size = 20, epochs = 1, validation_data = [X_test, Y_test], shuffle = True)\n",
        "  \n",
        "  if(i>=50):\n",
        "    \n",
        "    RESNET_MODEL.save('all_models/model' + str(i) + '.h5')"
      ],
      "execution_count": 0,
      "outputs": [
        {
          "output_type": "stream",
          "text": [
            "Train on 14956 samples, validate on 3740 samples\n",
            "Epoch 1/1\n",
            "14956/14956 [==============================] - 192s 13ms/step - loss: 2.3338 - acc: 0.9719 - val_loss: 4.3202 - val_acc: 0.5449\n",
            "Train on 14956 samples, validate on 3740 samples\n",
            "Epoch 1/1\n",
            "14956/14956 [==============================] - 194s 13ms/step - loss: 2.1884 - acc: 0.9819 - val_loss: 4.3153 - val_acc: 0.5278\n",
            "Train on 14956 samples, validate on 3740 samples\n",
            "Epoch 1/1\n",
            "14956/14956 [==============================] - 195s 13ms/step - loss: 2.0461 - acc: 0.9878 - val_loss: 4.0659 - val_acc: 0.5500\n",
            "Train on 14956 samples, validate on 3740 samples\n",
            "Epoch 1/1\n",
            "14956/14956 [==============================] - 198s 13ms/step - loss: 1.9027 - acc: 0.9903 - val_loss: 3.8802 - val_acc: 0.5676\n",
            "Train on 14956 samples, validate on 3740 samples\n",
            "Epoch 1/1\n",
            "14956/14956 [==============================] - 198s 13ms/step - loss: 1.7536 - acc: 0.9924 - val_loss: 3.7031 - val_acc: 0.5607\n",
            "Train on 14956 samples, validate on 3740 samples\n",
            "Epoch 1/1\n",
            "14956/14956 [==============================] - 198s 13ms/step - loss: 1.6019 - acc: 0.9929 - val_loss: 3.4224 - val_acc: 0.5775\n",
            "Train on 14956 samples, validate on 3740 samples\n",
            "Epoch 1/1\n",
            "14956/14956 [==============================] - 198s 13ms/step - loss: 1.4493 - acc: 0.9942 - val_loss: 3.2172 - val_acc: 0.6088\n",
            "Train on 14956 samples, validate on 3740 samples\n",
            "Epoch 1/1\n",
            "14956/14956 [==============================] - 198s 13ms/step - loss: 1.3061 - acc: 0.9945 - val_loss: 3.0376 - val_acc: 0.6072\n",
            "Train on 14956 samples, validate on 3740 samples\n",
            "Epoch 1/1\n",
            "14956/14956 [==============================] - 198s 13ms/step - loss: 1.1670 - acc: 0.9963 - val_loss: 2.9898 - val_acc: 0.5925\n",
            "Train on 14956 samples, validate on 3740 samples\n",
            "Epoch 1/1\n",
            "14956/14956 [==============================] - 198s 13ms/step - loss: 1.0405 - acc: 0.9968 - val_loss: 2.9252 - val_acc: 0.5765\n",
            "Train on 14956 samples, validate on 3740 samples\n",
            "Epoch 1/1\n",
            "14956/14956 [==============================] - 198s 13ms/step - loss: 0.9268 - acc: 0.9966 - val_loss: 2.6321 - val_acc: 0.6179\n",
            "Train on 14956 samples, validate on 3740 samples\n",
            "Epoch 1/1\n",
            "14956/14956 [==============================] - 198s 13ms/step - loss: 0.8232 - acc: 0.9975 - val_loss: 2.4945 - val_acc: 0.6265\n",
            "Train on 14956 samples, validate on 3740 samples\n",
            "Epoch 1/1\n",
            "14956/14956 [==============================] - 198s 13ms/step - loss: 0.7290 - acc: 0.9979 - val_loss: 2.4295 - val_acc: 0.6187\n",
            "Train on 14956 samples, validate on 3740 samples\n",
            "Epoch 1/1\n",
            "14956/14956 [==============================] - 198s 13ms/step - loss: 0.6492 - acc: 0.9969 - val_loss: 2.3070 - val_acc: 0.6219\n",
            "Train on 14956 samples, validate on 3740 samples\n",
            "Epoch 1/1\n",
            "14956/14956 [==============================] - 198s 13ms/step - loss: 0.5806 - acc: 0.9971 - val_loss: 2.2564 - val_acc: 0.6249\n",
            "Train on 14956 samples, validate on 3740 samples\n",
            "Epoch 1/1\n",
            "14956/14956 [==============================] - 198s 13ms/step - loss: 0.5210 - acc: 0.9977 - val_loss: 2.2007 - val_acc: 0.6201\n",
            "Train on 14956 samples, validate on 3740 samples\n",
            "Epoch 1/1\n",
            "14956/14956 [==============================] - 198s 13ms/step - loss: 0.4674 - acc: 0.9974 - val_loss: 1.9473 - val_acc: 0.6572\n",
            "Train on 14956 samples, validate on 3740 samples\n",
            "Epoch 1/1\n",
            "14956/14956 [==============================] - 194s 13ms/step - loss: 0.4223 - acc: 0.9975 - val_loss: 1.9953 - val_acc: 0.6337\n",
            "Train on 14956 samples, validate on 3740 samples\n",
            "Epoch 1/1\n",
            "14956/14956 [==============================] - 193s 13ms/step - loss: 0.3781 - acc: 0.9983 - val_loss: 2.0560 - val_acc: 0.6115\n",
            "Train on 14956 samples, validate on 3740 samples\n",
            "Epoch 1/1\n",
            "14956/14956 [==============================] - 195s 13ms/step - loss: 0.3468 - acc: 0.9965 - val_loss: 1.8500 - val_acc: 0.6439\n",
            "Train on 14956 samples, validate on 3740 samples\n",
            "Epoch 1/1\n",
            "14956/14956 [==============================] - 198s 13ms/step - loss: 0.3167 - acc: 0.9974 - val_loss: 1.7936 - val_acc: 0.6476\n",
            "Train on 14956 samples, validate on 3740 samples\n",
            "Epoch 1/1\n",
            "14956/14956 [==============================] - 198s 13ms/step - loss: 0.2901 - acc: 0.9981 - val_loss: 1.7499 - val_acc: 0.6476\n",
            "Train on 14956 samples, validate on 3740 samples\n",
            "Epoch 1/1\n",
            "14956/14956 [==============================] - 198s 13ms/step - loss: 0.2658 - acc: 0.9985 - val_loss: 1.9258 - val_acc: 0.6168\n",
            "Train on 14956 samples, validate on 3740 samples\n",
            "Epoch 1/1\n",
            "14956/14956 [==============================] - 198s 13ms/step - loss: 0.2444 - acc: 0.9981 - val_loss: 1.7958 - val_acc: 0.6294\n",
            "Train on 14956 samples, validate on 3740 samples\n",
            "Epoch 1/1\n",
            "14956/14956 [==============================] - 198s 13ms/step - loss: 0.2254 - acc: 0.9986 - val_loss: 1.7479 - val_acc: 0.6567\n",
            "Train on 14956 samples, validate on 3740 samples\n",
            "Epoch 1/1\n",
            "14956/14956 [==============================] - 198s 13ms/step - loss: 0.2098 - acc: 0.9978 - val_loss: 1.8077 - val_acc: 0.6281\n",
            "Train on 14956 samples, validate on 3740 samples\n",
            "Epoch 1/1\n",
            "14956/14956 [==============================] - 198s 13ms/step - loss: 0.1958 - acc: 0.9983 - val_loss: 1.6658 - val_acc: 0.6516\n",
            "Train on 14956 samples, validate on 3740 samples\n",
            "Epoch 1/1\n",
            "14956/14956 [==============================] - 198s 13ms/step - loss: 0.1861 - acc: 0.9978 - val_loss: 1.6678 - val_acc: 0.6382\n",
            "Train on 14956 samples, validate on 3740 samples\n",
            "Epoch 1/1\n",
            "14956/14956 [==============================] - 198s 13ms/step - loss: 0.1747 - acc: 0.9984 - val_loss: 1.6953 - val_acc: 0.6356\n",
            "Train on 14956 samples, validate on 3740 samples\n",
            "Epoch 1/1\n",
            "14956/14956 [==============================] - 198s 13ms/step - loss: 0.1643 - acc: 0.9985 - val_loss: 1.8347 - val_acc: 0.6013\n",
            "Train on 14956 samples, validate on 3740 samples\n",
            "Epoch 1/1\n",
            "14956/14956 [==============================] - 198s 13ms/step - loss: 0.1554 - acc: 0.9989 - val_loss: 1.6732 - val_acc: 0.6417\n",
            "Train on 14956 samples, validate on 3740 samples\n",
            "Epoch 1/1\n",
            "14956/14956 [==============================] - 198s 13ms/step - loss: 0.1478 - acc: 0.9983 - val_loss: 1.7686 - val_acc: 0.6214\n",
            "Train on 14956 samples, validate on 3740 samples\n",
            "Epoch 1/1\n",
            "14956/14956 [==============================] - 198s 13ms/step - loss: 0.1387 - acc: 0.9990 - val_loss: 1.8264 - val_acc: 0.6048\n",
            "Train on 14956 samples, validate on 3740 samples\n",
            "Epoch 1/1\n",
            "14956/14956 [==============================] - 198s 13ms/step - loss: 0.1391 - acc: 0.9975 - val_loss: 1.5857 - val_acc: 0.6484\n",
            "Train on 14956 samples, validate on 3740 samples\n",
            "Epoch 1/1\n",
            "14956/14956 [==============================] - 194s 13ms/step - loss: 0.1320 - acc: 0.9981 - val_loss: 1.6003 - val_acc: 0.6508\n",
            "Train on 14956 samples, validate on 3740 samples\n",
            "Epoch 1/1\n",
            "14956/14956 [==============================] - 194s 13ms/step - loss: 0.1281 - acc: 0.9981 - val_loss: 1.7060 - val_acc: 0.6294\n",
            "Train on 14956 samples, validate on 3740 samples\n",
            "Epoch 1/1\n",
            "14956/14956 [==============================] - 194s 13ms/step - loss: 0.1208 - acc: 0.9989 - val_loss: 1.5528 - val_acc: 0.6583\n",
            "Train on 14956 samples, validate on 3740 samples\n",
            "Epoch 1/1\n",
            "14956/14956 [==============================] - 194s 13ms/step - loss: 0.1165 - acc: 0.9983 - val_loss: 1.6814 - val_acc: 0.6318\n",
            "Train on 14956 samples, validate on 3740 samples\n",
            "Epoch 1/1\n",
            "14956/14956 [==============================] - 194s 13ms/step - loss: 0.1182 - acc: 0.9975 - val_loss: 1.6242 - val_acc: 0.6417\n",
            "Train on 14956 samples, validate on 3740 samples\n",
            "Epoch 1/1\n",
            "14956/14956 [==============================] - 195s 13ms/step - loss: 0.1133 - acc: 0.9981 - val_loss: 1.6370 - val_acc: 0.6342\n",
            "Train on 14956 samples, validate on 3740 samples\n",
            "Epoch 1/1\n",
            "14956/14956 [==============================] - 195s 13ms/step - loss: 0.1081 - acc: 0.9990 - val_loss: 1.7939 - val_acc: 0.6182\n",
            "Train on 14956 samples, validate on 3740 samples\n",
            "Epoch 1/1\n",
            "14956/14956 [==============================] - 195s 13ms/step - loss: 0.1083 - acc: 0.9985 - val_loss: 1.5439 - val_acc: 0.6642\n",
            "Train on 14956 samples, validate on 3740 samples\n",
            "Epoch 1/1\n",
            "14956/14956 [==============================] - 195s 13ms/step - loss: 0.1061 - acc: 0.9989 - val_loss: 1.6273 - val_acc: 0.6481\n",
            "Train on 14956 samples, validate on 3740 samples\n",
            "Epoch 1/1\n",
            "14956/14956 [==============================] - 195s 13ms/step - loss: 0.1004 - acc: 0.9991 - val_loss: 1.5769 - val_acc: 0.6602\n",
            "Train on 14956 samples, validate on 3740 samples\n",
            "Epoch 1/1\n",
            "14956/14956 [==============================] - 195s 13ms/step - loss: 0.1002 - acc: 0.9983 - val_loss: 1.5995 - val_acc: 0.6449\n",
            "Train on 14956 samples, validate on 3740 samples\n",
            "Epoch 1/1\n",
            "14956/14956 [==============================] - 195s 13ms/step - loss: 0.1023 - acc: 0.9977 - val_loss: 1.6972 - val_acc: 0.6150\n",
            "Train on 14956 samples, validate on 3740 samples\n",
            "Epoch 1/1\n",
            "14956/14956 [==============================] - 195s 13ms/step - loss: 0.0996 - acc: 0.9983 - val_loss: 1.5760 - val_acc: 0.6433\n",
            "Train on 14956 samples, validate on 3740 samples\n",
            "Epoch 1/1\n",
            "14956/14956 [==============================] - 196s 13ms/step - loss: 0.0970 - acc: 0.9986 - val_loss: 1.6014 - val_acc: 0.6361\n",
            "Train on 14956 samples, validate on 3740 samples\n",
            "Epoch 1/1\n",
            "14956/14956 [==============================] - 196s 13ms/step - loss: 0.0986 - acc: 0.9977 - val_loss: 1.4979 - val_acc: 0.6551\n",
            "Train on 14956 samples, validate on 3740 samples\n",
            "Epoch 1/1\n",
            "14956/14956 [==============================] - 195s 13ms/step - loss: 0.0981 - acc: 0.9980 - val_loss: 1.6482 - val_acc: 0.6310\n",
            "Train on 14956 samples, validate on 3740 samples\n",
            "Epoch 1/1\n",
            "14956/14956 [==============================] - 195s 13ms/step - loss: 0.0947 - acc: 0.9991 - val_loss: 1.4921 - val_acc: 0.6553\n",
            "Train on 14956 samples, validate on 3740 samples\n",
            "Epoch 1/1\n",
            "14956/14956 [==============================] - 195s 13ms/step - loss: 0.0959 - acc: 0.9982 - val_loss: 1.6107 - val_acc: 0.6358\n",
            "Train on 14956 samples, validate on 3740 samples\n",
            "Epoch 1/1\n",
            "14956/14956 [==============================] - 195s 13ms/step - loss: 0.0907 - acc: 0.9992 - val_loss: 1.6202 - val_acc: 0.6374\n",
            "Train on 14956 samples, validate on 3740 samples\n",
            "Epoch 1/1\n",
            "14956/14956 [==============================] - 196s 13ms/step - loss: 0.0903 - acc: 0.9986 - val_loss: 1.5968 - val_acc: 0.6524\n",
            "Train on 14956 samples, validate on 3740 samples\n",
            "Epoch 1/1\n",
            "14956/14956 [==============================] - 195s 13ms/step - loss: 0.0921 - acc: 0.9982 - val_loss: 1.4993 - val_acc: 0.6406\n",
            "Train on 14956 samples, validate on 3740 samples\n",
            "Epoch 1/1\n",
            "14956/14956 [==============================] - 195s 13ms/step - loss: 0.0902 - acc: 0.9981 - val_loss: 1.5203 - val_acc: 0.6706\n",
            "Train on 14956 samples, validate on 3740 samples\n",
            "Epoch 1/1\n",
            "14956/14956 [==============================] - 195s 13ms/step - loss: 0.0921 - acc: 0.9982 - val_loss: 1.5741 - val_acc: 0.6495\n",
            "Train on 14956 samples, validate on 3740 samples\n",
            "Epoch 1/1\n",
            "14956/14956 [==============================] - 194s 13ms/step - loss: 0.0921 - acc: 0.9981 - val_loss: 1.3800 - val_acc: 0.6925\n",
            "Train on 14956 samples, validate on 3740 samples\n",
            "Epoch 1/1\n",
            "14956/14956 [==============================] - 195s 13ms/step - loss: 0.0911 - acc: 0.9983 - val_loss: 1.4491 - val_acc: 0.6802\n",
            "Train on 14956 samples, validate on 3740 samples\n",
            "Epoch 1/1\n",
            "14956/14956 [==============================] - 191s 13ms/step - loss: 0.0907 - acc: 0.9983 - val_loss: 1.5036 - val_acc: 0.6615\n",
            "Train on 14956 samples, validate on 3740 samples\n",
            "Epoch 1/1\n",
            "14956/14956 [==============================] - 191s 13ms/step - loss: 0.0888 - acc: 0.9984 - val_loss: 1.4899 - val_acc: 0.6735\n",
            "Train on 14956 samples, validate on 3740 samples\n",
            "Epoch 1/1\n",
            "14956/14956 [==============================] - 191s 13ms/step - loss: 0.0893 - acc: 0.9978 - val_loss: 1.5580 - val_acc: 0.6567\n",
            "Train on 14956 samples, validate on 3740 samples\n",
            "Epoch 1/1\n",
            "14956/14956 [==============================] - 190s 13ms/step - loss: 0.0931 - acc: 0.9972 - val_loss: 1.5737 - val_acc: 0.6404\n",
            "Train on 14956 samples, validate on 3740 samples\n",
            "Epoch 1/1\n",
            "14956/14956 [==============================] - 190s 13ms/step - loss: 0.0874 - acc: 0.9991 - val_loss: 1.4223 - val_acc: 0.6789\n",
            "Train on 14956 samples, validate on 3740 samples\n",
            "Epoch 1/1\n",
            "14956/14956 [==============================] - 191s 13ms/step - loss: 0.0856 - acc: 0.9987 - val_loss: 1.4994 - val_acc: 0.6481\n",
            "Train on 14956 samples, validate on 3740 samples\n",
            "Epoch 1/1\n",
            "14956/14956 [==============================] - 191s 13ms/step - loss: 0.0886 - acc: 0.9981 - val_loss: 1.3676 - val_acc: 0.6917\n",
            "Train on 14956 samples, validate on 3740 samples\n",
            "Epoch 1/1\n",
            "14956/14956 [==============================] - 191s 13ms/step - loss: 0.0864 - acc: 0.9984 - val_loss: 1.4999 - val_acc: 0.6511\n",
            "Train on 14956 samples, validate on 3740 samples\n",
            "Epoch 1/1\n",
            "14956/14956 [==============================] - 191s 13ms/step - loss: 0.0886 - acc: 0.9975 - val_loss: 1.4670 - val_acc: 0.6652\n",
            "Train on 14956 samples, validate on 3740 samples\n",
            "Epoch 1/1\n",
            "14956/14956 [==============================] - 191s 13ms/step - loss: 0.0871 - acc: 0.9987 - val_loss: 1.5923 - val_acc: 0.6404\n",
            "Train on 14956 samples, validate on 3740 samples\n",
            "Epoch 1/1\n",
            "14956/14956 [==============================] - 191s 13ms/step - loss: 0.0862 - acc: 0.9986 - val_loss: 1.7273 - val_acc: 0.5989\n",
            "Train on 14956 samples, validate on 3740 samples\n",
            "Epoch 1/1\n",
            "14956/14956 [==============================] - 191s 13ms/step - loss: 0.0853 - acc: 0.9982 - val_loss: 1.6693 - val_acc: 0.6193\n",
            "Train on 14956 samples, validate on 3740 samples\n",
            "Epoch 1/1\n",
            "14956/14956 [==============================] - 191s 13ms/step - loss: 0.0868 - acc: 0.9982 - val_loss: 1.4907 - val_acc: 0.6639\n",
            "Train on 14956 samples, validate on 3740 samples\n",
            "Epoch 1/1\n",
            "14956/14956 [==============================] - 191s 13ms/step - loss: 0.0868 - acc: 0.9981 - val_loss: 1.4812 - val_acc: 0.6671\n",
            "Train on 14956 samples, validate on 3740 samples\n",
            "Epoch 1/1\n",
            "14956/14956 [==============================] - 190s 13ms/step - loss: 0.0858 - acc: 0.9981 - val_loss: 1.5492 - val_acc: 0.6583\n",
            "Train on 14956 samples, validate on 3740 samples\n",
            "Epoch 1/1\n",
            "14956/14956 [==============================] - 190s 13ms/step - loss: 0.0826 - acc: 0.9987 - val_loss: 1.4246 - val_acc: 0.6757\n"
          ],
          "name": "stdout"
        }
      ]
    },
    {
      "cell_type": "code",
      "metadata": {
        "id": "ljqQQymy9eZ4",
        "colab_type": "code",
        "outputId": "f05eb371-72b2-4344-c67f-609f86c2a90e",
        "colab": {
          "base_uri": "https://localhost:8080/",
          "height": 231
        }
      },
      "source": [
        "for i in tqdm(r):\n",
        "  \n",
        "  ci = cv2.imread('drive/My Drive/FR/data/test/' + str(i) + '.jpg')\n",
        "  \n",
        "  ci = cv2.resize(ci, (224,224))\n",
        "  \n",
        "  cp = RESNET_MODEL.predict(np.array([ci]))\n",
        "  \n",
        "  ans = cp.argmax() + 1\n",
        "  \n",
        "  preds.append(ans)"
      ],
      "execution_count": 0,
      "outputs": [
        {
          "output_type": "error",
          "ename": "NameError",
          "evalue": "ignored",
          "traceback": [
            "\u001b[0;31m---------------------------------------------------------------------------\u001b[0m",
            "\u001b[0;31mNameError\u001b[0m                                 Traceback (most recent call last)",
            "\u001b[0;32m<ipython-input-1-d0d874530b13>\u001b[0m in \u001b[0;36m<module>\u001b[0;34m()\u001b[0m\n\u001b[0;32m----> 1\u001b[0;31m \u001b[0;32mfor\u001b[0m \u001b[0mi\u001b[0m \u001b[0;32min\u001b[0m \u001b[0mtqdm\u001b[0m\u001b[0;34m(\u001b[0m\u001b[0mr\u001b[0m\u001b[0;34m)\u001b[0m\u001b[0;34m:\u001b[0m\u001b[0;34m\u001b[0m\u001b[0;34m\u001b[0m\u001b[0m\n\u001b[0m\u001b[1;32m      2\u001b[0m \u001b[0;34m\u001b[0m\u001b[0m\n\u001b[1;32m      3\u001b[0m   \u001b[0mci\u001b[0m \u001b[0;34m=\u001b[0m \u001b[0mcv2\u001b[0m\u001b[0;34m.\u001b[0m\u001b[0mimread\u001b[0m\u001b[0;34m(\u001b[0m\u001b[0;34m'drive/My Drive/FR/data/test/'\u001b[0m \u001b[0;34m+\u001b[0m \u001b[0mstr\u001b[0m\u001b[0;34m(\u001b[0m\u001b[0mi\u001b[0m\u001b[0;34m)\u001b[0m \u001b[0;34m+\u001b[0m \u001b[0;34m'.jpg'\u001b[0m\u001b[0;34m)\u001b[0m\u001b[0;34m\u001b[0m\u001b[0;34m\u001b[0m\u001b[0m\n\u001b[1;32m      4\u001b[0m \u001b[0;34m\u001b[0m\u001b[0m\n\u001b[1;32m      5\u001b[0m   \u001b[0mci\u001b[0m \u001b[0;34m=\u001b[0m \u001b[0mcv2\u001b[0m\u001b[0;34m.\u001b[0m\u001b[0mresize\u001b[0m\u001b[0;34m(\u001b[0m\u001b[0mci\u001b[0m\u001b[0;34m,\u001b[0m \u001b[0;34m(\u001b[0m\u001b[0;36m224\u001b[0m\u001b[0;34m,\u001b[0m\u001b[0;36m224\u001b[0m\u001b[0;34m)\u001b[0m\u001b[0;34m)\u001b[0m\u001b[0;34m\u001b[0m\u001b[0;34m\u001b[0m\u001b[0m\n",
            "\u001b[0;31mNameError\u001b[0m: name 'tqdm' is not defined"
          ]
        }
      ]
    },
    {
      "cell_type": "code",
      "metadata": {
        "id": "0gdue1deS9Na",
        "colab_type": "code",
        "colab": {}
      },
      "source": [
        ""
      ],
      "execution_count": 0,
      "outputs": []
    }
  ]
}